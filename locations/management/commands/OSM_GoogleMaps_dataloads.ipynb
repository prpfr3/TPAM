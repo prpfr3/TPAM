{
 "cells": [
  {
   "attachments": {},
   "cell_type": "markdown",
   "metadata": {},
   "source": [
    "# Initialisation and Utility Functions\n",
    "\n",
    "This notebook can perform three different types of exports and loads:-\n",
    "\n",
    "1. Extract and Load of OSM Railway geodata\n",
    "2. Extract and Load of OSM Historical Railway geodata\n",
    "3. Extract and Load of Google Maps Railway route geodata\n",
    "\n",
    "The workbook commences with initialisation of imports and global variables, and two utility functions"
   ]
  },
  {
   "cell_type": "code",
   "execution_count": 7,
   "metadata": {},
   "outputs": [],
   "source": [
    "import configparser\n",
    "import os\n",
    "import matplotlib.pyplot as plt\n",
    "import geopandas as gpd\n",
    "import folium\n",
    "import webbrowser\n",
    "from sqlalchemy import create_engine\n",
    "\n",
    "\n",
    "DATA_DIR = os.path.join('D:\\\\Data\\\\TPAM\\\\')\n",
    "gpd.io.file.fiona.drvsupport.supported_drivers['KML'] = 'rw'"
   ]
  },
  {
   "cell_type": "code",
   "execution_count": 8,
   "metadata": {},
   "outputs": [],
   "source": [
    "def create_folium_map(routes_to_map):\n",
    "    m = folium.Map(location=[52.48, 0], zoom_start= 7, tiles='cartodbpositron')\n",
    "    folium.GeoJson(data=routes_to_map[\"geometry\"]).add_to(m)\n",
    "    m.save('temporary_map.html')\n",
    "    webbrowser.open('temporary_map.html', new=2)\n",
    "    return"
   ]
  },
  {
   "cell_type": "code",
   "execution_count": 9,
   "metadata": {},
   "outputs": [],
   "source": [
    "def print_df_info(df):\n",
    "    #routes.to_csv('df.csv', index=False)\n",
    "    print(type(df))\n",
    "    print(df.head())\n",
    "    print(df.crs)\n",
    "    print(df.total_bounds)\n",
    "    print(df.info())\n",
    "    df.plot(figsize=(6, 6))\n",
    "    plt.show()\n",
    "    return"
   ]
  },
  {
   "attachments": {},
   "cell_type": "markdown",
   "metadata": {},
   "source": [
    "# Open Historical Maps Import\n",
    "\n",
    "First execute the following manual activities outside of the workbook:-\n",
    "1. Go to (Overpass Turbo)[https://openhistoricalmap.github.io/overpass-turbo/] and export railway route data via the wizard with route=train\n",
    "2. Rename the downloaded file as \"osmhistory_railroutes.geojson\" and move it to the DATA_DIR"
   ]
  },
  {
   "cell_type": "code",
   "execution_count": 10,
   "metadata": {},
   "outputs": [],
   "source": [
    "\n",
    "osmhistory_railroutes = gpd.read_file(DATA_DIR + \"osmhistory_railroutes.geojson\")"
   ]
  },
  {
   "cell_type": "code",
   "execution_count": 11,
   "metadata": {},
   "outputs": [],
   "source": [
    "\n",
    "config = configparser.ConfigParser()\n",
    "KEYS_DIR = os.path.join(\"D:\\\\Data\", \"API_Keys\")\n",
    "config.read(os.path.join(KEYS_DIR, \"TPAMWeb.ini\"))\n",
    "db_pswd = config['MySQL']['p']\n",
    "engine = create_engine('postgresql://postgres:' + db_pswd + '@localhost/TPAM')\n"
   ]
  },
  {
   "attachments": {},
   "cell_type": "markdown",
   "metadata": {},
   "source": [
    "If rerunning this load then first do the following outside of the notebook:-\n",
    "1. Go to the Django TPAM and:-\n",
    "    a. Comment out the existing model LocationsRoutesGeoOsmhistory in models.py\n",
    "    b. Comment out the admin entry for the model LocationsRoutesGeoOsmhistory\n",
    "    c. Run python manage.py make migrations\n",
    "    d. Run python manage.py migrate\n",
    "2. Go to the Database Admin tool (e.g. PgAdmin) and drop the existing table \"locations_routes_geo_osmhistory\"\n",
    "\n",
    "Now load the databse table with the following command"
   ]
  },
  {
   "cell_type": "code",
   "execution_count": 12,
   "metadata": {},
   "outputs": [
    {
     "name": "stdout",
     "output_type": "stream",
     "text": [
      "<class 'geopandas.geodataframe.GeoDataFrame'>\n",
      "                 id               @id building layer  \\\n",
      "0  relation/2693956  relation/2693956      yes     1   \n",
      "1  relation/2693958  relation/2693958      yes  None   \n",
      "2  relation/2693959  relation/2693959      yes  None   \n",
      "3  relation/2693960  relation/2693960      yes    -1   \n",
      "4     way/198163527     way/198163527      yes  None   \n",
      "\n",
      "                                   name public_transport  railway  start_date  \\\n",
      "0            St Pancras Railway Station          station  station  1868-10-01   \n",
      "1  St Pancras Railway Station Extension          station  station        2007   \n",
      "2                          King's Cross          station  station        1852   \n",
      "3                     London Paddington          station  station        1838   \n",
      "4                            Wagon Lift             None  station        1854   \n",
      "\n",
      "  train          type  ... name:1886-1937 name:1937- source:data  \\\n",
      "0   yes  multipolygon  ...           None       None        None   \n",
      "1   yes  multipolygon  ...           None       None        None   \n",
      "2   yes  multipolygon  ...           None       None        None   \n",
      "3   yes  multipolygon  ...           None       None        None   \n",
      "4  None          None  ...           None       None        None   \n",
      "\n",
      "  name:1932-1934 name:1881-1895 wikimedia_commons station subway  \\\n",
      "0           None           None              None    None   None   \n",
      "1           None           None              None    None   None   \n",
      "2           None           None              None    None   None   \n",
      "3           None           None              None    None   None   \n",
      "4           None           None              None    None   None   \n",
      "\n",
      "  railway:yard:purpose                                           geometry  \n",
      "0                 None  POLYGON ((-0.12606 51.52969, -0.12449 51.53018...  \n",
      "1                 None  POLYGON ((-0.12710 51.53169, -0.12703 51.53171...  \n",
      "2                 None  POLYGON ((-0.12369 51.53318, -0.12400 51.53324...  \n",
      "3                 None  POLYGON ((-0.17611 51.51645, -0.17594 51.51653...  \n",
      "4                 None  POLYGON ((-1.55661 53.79571, -1.55652 53.79562...  \n",
      "\n",
      "[5 rows x 71 columns]\n",
      "epsg:4326\n",
      "[-8.6248353 50.0911941  3.0346697 57.1347826]\n",
      "<class 'geopandas.geodataframe.GeoDataFrame'>\n",
      "RangeIndex: 3048 entries, 0 to 3047\n",
      "Data columns (total 71 columns):\n",
      " #   Column                 Non-Null Count  Dtype   \n",
      "---  ------                 --------------  -----   \n",
      " 0   id                     3048 non-null   object  \n",
      " 1   @id                    3048 non-null   object  \n",
      " 2   building               73 non-null     object  \n",
      " 3   layer                  345 non-null    object  \n",
      " 4   name                   1651 non-null   object  \n",
      " 5   public_transport       37 non-null     object  \n",
      " 6   railway                3048 non-null   object  \n",
      " 7   start_date             1304 non-null   object  \n",
      " 8   train                  29 non-null     object  \n",
      " 9   type                   4 non-null      object  \n",
      " 10  wikidata               61 non-null     object  \n",
      " 11  wikipedia              79 non-null     object  \n",
      " 12  start_date:note        39 non-null     object  \n",
      " 13  area                   66 non-null     object  \n",
      " 14  end_date               474 non-null    object  \n",
      " 15  source                 414 non-null    object  \n",
      " 16  building:levels        3 non-null      object  \n",
      " 17  structure              1 non-null      object  \n",
      " 18  landuse                3 non-null      object  \n",
      " 19  alt_name               39 non-null     object  \n",
      " 20  name:1863-1908         2 non-null      object  \n",
      " 21  operator               21 non-null     object  \n",
      " 22  name:1848-1966         1 non-null      object  \n",
      " 23  name:1966-2021         1 non-null      object  \n",
      " 24  architect              1 non-null      object  \n",
      " 25  architect:wikipedia    1 non-null      object  \n",
      " 26  name:1847-1922         1 non-null      object  \n",
      " 27  name:1922              1 non-null      object  \n",
      " 28  company:1898           1 non-null      object  \n",
      " 29  company:end            1 non-null      object  \n",
      " 30  company:start          1 non-null      object  \n",
      " 31  end_date:goods         3 non-null      object  \n",
      " 32  gauge                  216 non-null    object  \n",
      " 33  start_date:GWR         1 non-null      object  \n",
      " 34  embankment             36 non-null     object  \n",
      " 35  bridge                 385 non-null    object  \n",
      " 36  tracks                 18 non-null     object  \n",
      " 37  service                104 non-null    object  \n",
      " 38  name_1                 2 non-null      object  \n",
      " 39  cutting                4 non-null      object  \n",
      " 40  man_made               1 non-null      object  \n",
      " 41  tunnel                 91 non-null     object  \n",
      " 42  tram                   1 non-null      object  \n",
      " 43  highway                2 non-null      object  \n",
      " 44  surface                2 non-null      object  \n",
      " 45  ford                   1 non-null      object  \n",
      " 46  level                  13 non-null     object  \n",
      " 47  fixme                  11 non-null     object  \n",
      " 48  note                   70 non-null     object  \n",
      " 49  start_date:source      3 non-null      object  \n",
      " 50  start_date:edtf        35 non-null     object  \n",
      " 51  electrified            150 non-null    object  \n",
      " 52  usage                  204 non-null    object  \n",
      " 53  end_date:edtf          37 non-null     object  \n",
      " 54  end_date:note          49 non-null     object  \n",
      " 55  source:operator        1 non-null      object  \n",
      " 56  operator:1940          1 non-null      object  \n",
      " 57  end_date:freight       4 non-null      object  \n",
      " 58  end_date:passengers    17 non-null     object  \n",
      " 59  start_date:passengers  9 non-null      object  \n",
      " 60  start_date:goods       2 non-null      object  \n",
      " 61  name:1886-1937         1 non-null      object  \n",
      " 62  name:1937-             1 non-null      object  \n",
      " 63  source:data            1 non-null      object  \n",
      " 64  name:1932-1934         1 non-null      object  \n",
      " 65  name:1881-1895         1 non-null      object  \n",
      " 66  wikimedia_commons      1 non-null      object  \n",
      " 67  station                1 non-null      object  \n",
      " 68  subway                 1 non-null      object  \n",
      " 69  railway:yard:purpose   2 non-null      object  \n",
      " 70  geometry               3048 non-null   geometry\n",
      "dtypes: geometry(1), object(70)\n",
      "memory usage: 1.7+ MB\n",
      "None\n"
     ]
    },
    {
     "data": {
      "image/png": "[encoded data removed]",
      "text/plain": [
       "<Figure size 432x432 with 1 Axes>"
      ]
     },
     "metadata": {
      "needs_background": "light"
     },
     "output_type": "display_data"
    }
   ],
   "source": [
    "routes = gpd.read_file(DATA_DIR + \"osmhistory_railroutes.geojson\")\n",
    "routes.to_postgis(name=\"locations_routes_geo_osmhistory\", if_exists='append', index=False, con=engine)\n",
    "create_folium_map(routes)\n",
    "# print_df_info(routes)"
   ]
  },
  {
   "attachments": {},
   "cell_type": "markdown",
   "metadata": {},
   "source": [
    "## Post Load Actions\n",
    "Go to the Terminal command line in the TPAM Django project and generate the Django table model from the loaded database table:-\n",
    "\n",
    "python manage.py inspectdb > models_temporary.py\n",
    "\n",
    "If rerunning the load:-\n",
    "\n",
    "1. Uncomment out the existing model LocationsRoutesGeoOsmhistory in models.py and adjust for any differences for the table shown in models_temporary.py (osmhistory users may have added new fields which means the existing model Django table definition may not work)\n",
    "2. Uncomment out the admin entry for the model LocationsRoutesGeoOsmhistory\n",
    "\n",
    "Else if running the load for the first time:-\n",
    "1. Copy the model LocationsRoutesGeoOsmhistory from models_temporary.py into models.py\n",
    "2. Convert the id field to null=False, primary_key=True \n",
    "(note the id field already exists in the loaded data but contains characters and therefore cannot be used as the models key)"
   ]
  },
  {
   "attachments": {},
   "cell_type": "markdown",
   "metadata": {},
   "source": [
    "### OpenStreetMaps Railway Data\n",
    "\n",
    "The same process as for OpenHistoricalStreetMaps can be used."
   ]
  },
  {
   "cell_type": "code",
   "execution_count": 4,
   "metadata": {},
   "outputs": [
    {
     "ename": "NameError",
     "evalue": "name 'create_folium_map' is not defined",
     "output_type": "error",
     "traceback": [
      "\u001b[1;31m---------------------------------------------------------------------------\u001b[0m",
      "\u001b[1;31mNameError\u001b[0m                                 Traceback (most recent call last)",
      "\u001b[1;32md:\\OneDrive\\Source\\Python Projects\\TPAM\\locations\\management\\commands\\TPAM_Routemaps_Load.ipynb Cell 7\u001b[0m in \u001b[0;36m<module>\u001b[1;34m\u001b[0m\n\u001b[0;32m      <a href='vscode-notebook-cell:/d%3A/OneDrive/Source/Python%20Projects/TPAM/locations/management/commands/TPAM_Routemaps_Load.ipynb#W6sZmlsZQ%3D%3D?line=0'>1</a>\u001b[0m routes \u001b[39m=\u001b[39m gpd\u001b[39m.\u001b[39mread_file(DATA_DIR \u001b[39m+\u001b[39m \u001b[39m\"\u001b[39m\u001b[39mosm_railroutes.geojson\u001b[39m\u001b[39m\"\u001b[39m)\n\u001b[0;32m      <a href='vscode-notebook-cell:/d%3A/OneDrive/Source/Python%20Projects/TPAM/locations/management/commands/TPAM_Routemaps_Load.ipynb#W6sZmlsZQ%3D%3D?line=1'>2</a>\u001b[0m routes\u001b[39m.\u001b[39mto_postgis(name\u001b[39m=\u001b[39m\u001b[39m\"\u001b[39m\u001b[39mlocations_routes_geo_osm\u001b[39m\u001b[39m\"\u001b[39m, if_exists\u001b[39m=\u001b[39m\u001b[39m'\u001b[39m\u001b[39mappend\u001b[39m\u001b[39m'\u001b[39m, index\u001b[39m=\u001b[39m\u001b[39mFalse\u001b[39;00m, con\u001b[39m=\u001b[39mengine)\n\u001b[1;32m----> <a href='vscode-notebook-cell:/d%3A/OneDrive/Source/Python%20Projects/TPAM/locations/management/commands/TPAM_Routemaps_Load.ipynb#W6sZmlsZQ%3D%3D?line=2'>3</a>\u001b[0m create_folium_map(routes)\n\u001b[0;32m      <a href='vscode-notebook-cell:/d%3A/OneDrive/Source/Python%20Projects/TPAM/locations/management/commands/TPAM_Routemaps_Load.ipynb#W6sZmlsZQ%3D%3D?line=3'>4</a>\u001b[0m print_df_info(routes)\n",
      "\u001b[1;31mNameError\u001b[0m: name 'create_folium_map' is not defined"
     ]
    }
   ],
   "source": [
    "routes = gpd.read_file(DATA_DIR + \"osm_railroutes.geojson\")\n",
    "routes.to_postgis(name=\"locations_routes_geo_osm\", if_exists='append', index=False, con=engine)\n",
    "create_folium_map(routes)\n",
    "print_df_info(routes)"
   ]
  },
  {
   "attachments": {},
   "cell_type": "markdown",
   "metadata": {},
   "source": [
    "### Closed UK Railways - from Google Maps\n",
    "Data download from a map [created by a contributor on Google maps](https://www.google.com/maps/d/viewer?ie=UTF8&oe=UTF8&msa=0&mid=1-qtKdwA-_7Y1msH5nlUbVKMjdMk&ll=51.17557904660408%2C-0.34163366478264123&z=9)\n",
    "Note that in Postgres/Django the column \"Name\" has been changed to \"name\". Needs to be changed back temporarily for this load to work."
   ]
  },
  {
   "cell_type": "code",
   "execution_count": 10,
   "metadata": {},
   "outputs": [],
   "source": [
    "closed_routes = gpd.read_file(DATA_DIR + \"Closed UK Railways.kml\", driver='KML')\n",
    "closed_routes.head()\n",
    "closed_routes.to_postgis(name=\"locations_routes_geo_closed\", if_exists='append', index=False, con=engine)\n",
    "# create_folium_map(closed_routes)\n",
    "# print_df_info(closed_routes)"
   ]
  },
  {
   "attachments": {},
   "cell_type": "markdown",
   "metadata": {},
   "source": [
    "### Load of Admin Boundaries"
   ]
  },
  {
   "cell_type": "code",
   "execution_count": 8,
   "metadata": {},
   "outputs": [],
   "source": [
    "admin_boundaries = gpd.read_file(\"D:\\\\Data\\\\UK_Admin_Boundaries\\\\\" + \"Counties_and_Unitary_Authorities__December_2019__Boundaries_UK_BFE.shp\")\n",
    "admin_boundaries.to_postgis(name=\"locations_UK_admin_boundaries\", if_exists='append', index=False, con=engine)\n",
    "# create_folium_map(admin_boundaries)\n",
    "# print_df_info(admin_boundaries)"
   ]
  }
 ],
 "metadata": {
  "kernelspec": {
   "display_name": "Python 3.9.2 ('GeoDjango')",
   "language": "python",
   "name": "python3"
  },
  "language_info": {
   "codemirror_mode": {
    "name": "ipython",
    "version": 3
   },
   "file_extension": ".py",
   "mimetype": "text/x-python",
   "name": "python",
   "nbconvert_exporter": "python",
   "pygments_lexer": "ipython3",
   "version": "3.9.2"
  },
  "orig_nbformat": 2,
  "vscode": {
   "interpreter": {
    "hash": "83b37f14035654c95f7c7b64e840d8b46268139ec28fb89403749e6a038e8675"
   }
  }
 },
 "nbformat": 4,
 "nbformat_minor": 2
}
