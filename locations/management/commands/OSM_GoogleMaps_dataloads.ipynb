{
 "cells": [
  {
   "cell_type": "markdown",
   "metadata": {},
   "source": [
    "# OSM Kent Railways Import\n",
    "\n",
    "Go to (Overpass Turbo)[https://overpass-turbo.eu/] and export railway route data via the wizard with route=train\n"
   ]
  },
  {
   "cell_type": "code",
   "execution_count": 2,
   "metadata": {},
   "outputs": [],
   "source": [
    "import configparser\n",
    "import os\n",
    "import matplotlib.pyplot as plt\n",
    "import geopandas as gpd\n",
    "import folium\n",
    "import webbrowser\n",
    "from sqlalchemy import create_engine\n",
    "\n",
    "\n",
    "DATA_DIR = os.path.join('D:\\\\Data\\\\TPAM\\\\')\n",
    "gpd.io.file.fiona.drvsupport.supported_drivers['KML'] = 'rw'"
   ]
  },
  {
   "cell_type": "code",
   "execution_count": 2,
   "metadata": {},
   "outputs": [
    {
     "name": "stderr",
     "output_type": "stream",
     "text": [
      "c:\\Users\\paulf\\anaconda3\\envs\\GeoDjango\\lib\\site-packages\\geopandas\\geodataframe.py:577: RuntimeWarning: Sequential read of iterator was interrupted. Resetting iterator. This can negatively impact the performance.\n",
      "  for feature in features_lst:\n"
     ]
    }
   ],
   "source": [
    "\n",
    "osmhistory_railroutes = gpd.read_file(DATA_DIR + \"osmhistory_railroutes.geojson\")\n",
    "closed_routes = gpd.read_file(DATA_DIR + \"Closed UK Railways.kml\", driver='KML')"
   ]
  },
  {
   "cell_type": "code",
   "execution_count": 3,
   "metadata": {},
   "outputs": [],
   "source": [
    "def create_folium_map(routes_to_map):\n",
    "    m = folium.Map(location=[52.48, 0], zoom_start= 7, tiles='cartodbpositron')\n",
    "    folium.GeoJson(data=routes_to_map[\"geometry\"]).add_to(m)\n",
    "    m.save('temporary_map.html')\n",
    "    webbrowser.open('temporary_map.html', new=2)\n",
    "    return"
   ]
  },
  {
   "cell_type": "code",
   "execution_count": 4,
   "metadata": {},
   "outputs": [],
   "source": [
    "def print_df_info(df):\n",
    "    #routes.to_csv('df.csv', index=False)\n",
    "    print(type(df))\n",
    "    print(df.head())\n",
    "    print(df.crs)\n",
    "    print(df.total_bounds)\n",
    "    print(df.info())\n",
    "    df.plot(figsize=(6, 6))\n",
    "    plt.show()\n",
    "    return"
   ]
  },
  {
   "cell_type": "code",
   "execution_count": 4,
   "metadata": {},
   "outputs": [],
   "source": [
    "\n",
    "config = configparser.ConfigParser()\n",
    "KEYS_DIR = os.path.join(\"D:\\\\Data\", \"API_Keys\")\n",
    "config.read(os.path.join(KEYS_DIR, \"TPAMWeb.ini\"))\n",
    "db_pswd = config['MySQL']['p']\n",
    "engine = create_engine('postgresql://postgres:' + db_pswd + '@localhost/TPAM')\n"
   ]
  },
  {
   "cell_type": "code",
   "execution_count": 4,
   "metadata": {},
   "outputs": [
    {
     "ename": "NameError",
     "evalue": "name 'create_folium_map' is not defined",
     "output_type": "error",
     "traceback": [
      "\u001b[1;31m---------------------------------------------------------------------------\u001b[0m",
      "\u001b[1;31mNameError\u001b[0m                                 Traceback (most recent call last)",
      "\u001b[1;32md:\\OneDrive\\Source\\Python Projects\\TPAM\\locations\\management\\commands\\TPAM_Routemaps_Load.ipynb Cell 7\u001b[0m in \u001b[0;36m<module>\u001b[1;34m\u001b[0m\n\u001b[0;32m      <a href='vscode-notebook-cell:/d%3A/OneDrive/Source/Python%20Projects/TPAM/locations/management/commands/TPAM_Routemaps_Load.ipynb#W6sZmlsZQ%3D%3D?line=0'>1</a>\u001b[0m routes \u001b[39m=\u001b[39m gpd\u001b[39m.\u001b[39mread_file(DATA_DIR \u001b[39m+\u001b[39m \u001b[39m\"\u001b[39m\u001b[39mosm_railroutes.geojson\u001b[39m\u001b[39m\"\u001b[39m)\n\u001b[0;32m      <a href='vscode-notebook-cell:/d%3A/OneDrive/Source/Python%20Projects/TPAM/locations/management/commands/TPAM_Routemaps_Load.ipynb#W6sZmlsZQ%3D%3D?line=1'>2</a>\u001b[0m routes\u001b[39m.\u001b[39mto_postgis(name\u001b[39m=\u001b[39m\u001b[39m\"\u001b[39m\u001b[39mlocations_routes_geo_osm\u001b[39m\u001b[39m\"\u001b[39m, if_exists\u001b[39m=\u001b[39m\u001b[39m'\u001b[39m\u001b[39mappend\u001b[39m\u001b[39m'\u001b[39m, index\u001b[39m=\u001b[39m\u001b[39mFalse\u001b[39;00m, con\u001b[39m=\u001b[39mengine)\n\u001b[1;32m----> <a href='vscode-notebook-cell:/d%3A/OneDrive/Source/Python%20Projects/TPAM/locations/management/commands/TPAM_Routemaps_Load.ipynb#W6sZmlsZQ%3D%3D?line=2'>3</a>\u001b[0m create_folium_map(routes)\n\u001b[0;32m      <a href='vscode-notebook-cell:/d%3A/OneDrive/Source/Python%20Projects/TPAM/locations/management/commands/TPAM_Routemaps_Load.ipynb#W6sZmlsZQ%3D%3D?line=3'>4</a>\u001b[0m print_df_info(routes)\n",
      "\u001b[1;31mNameError\u001b[0m: name 'create_folium_map' is not defined"
     ]
    }
   ],
   "source": [
    "routes = gpd.read_file(DATA_DIR + \"osm_railroutes.geojson\")\n",
    "routes.to_postgis(name=\"locations_routes_geo_osm\", if_exists='append', index=False, con=engine)\n",
    "create_folium_map(routes)\n",
    "print_df_info(routes)"
   ]
  },
  {
   "cell_type": "code",
   "execution_count": 5,
   "metadata": {},
   "outputs": [
    {
     "ename": "NameError",
     "evalue": "name 'create_folium_map' is not defined",
     "output_type": "error",
     "traceback": [
      "\u001b[1;31m---------------------------------------------------------------------------\u001b[0m",
      "\u001b[1;31mNameError\u001b[0m                                 Traceback (most recent call last)",
      "\u001b[1;32md:\\OneDrive\\Source\\Python Projects\\TPAM\\locations\\management\\commands\\TPAM_Routemaps_Load.ipynb Cell 8\u001b[0m in \u001b[0;36m<module>\u001b[1;34m\u001b[0m\n\u001b[0;32m      <a href='vscode-notebook-cell:/d%3A/OneDrive/Source/Python%20Projects/TPAM/locations/management/commands/TPAM_Routemaps_Load.ipynb#X10sZmlsZQ%3D%3D?line=0'>1</a>\u001b[0m routes \u001b[39m=\u001b[39m gpd\u001b[39m.\u001b[39mread_file(DATA_DIR \u001b[39m+\u001b[39m \u001b[39m\"\u001b[39m\u001b[39mosmhistory_railroutes.geojson\u001b[39m\u001b[39m\"\u001b[39m)\n\u001b[0;32m      <a href='vscode-notebook-cell:/d%3A/OneDrive/Source/Python%20Projects/TPAM/locations/management/commands/TPAM_Routemaps_Load.ipynb#X10sZmlsZQ%3D%3D?line=1'>2</a>\u001b[0m routes\u001b[39m.\u001b[39mto_postgis(name\u001b[39m=\u001b[39m\u001b[39m\"\u001b[39m\u001b[39mlocations_routes_geo_osmhistory\u001b[39m\u001b[39m\"\u001b[39m, if_exists\u001b[39m=\u001b[39m\u001b[39m'\u001b[39m\u001b[39mappend\u001b[39m\u001b[39m'\u001b[39m, index\u001b[39m=\u001b[39m\u001b[39mFalse\u001b[39;00m, con\u001b[39m=\u001b[39mengine)\n\u001b[1;32m----> <a href='vscode-notebook-cell:/d%3A/OneDrive/Source/Python%20Projects/TPAM/locations/management/commands/TPAM_Routemaps_Load.ipynb#X10sZmlsZQ%3D%3D?line=2'>3</a>\u001b[0m create_folium_map(routes)\n\u001b[0;32m      <a href='vscode-notebook-cell:/d%3A/OneDrive/Source/Python%20Projects/TPAM/locations/management/commands/TPAM_Routemaps_Load.ipynb#X10sZmlsZQ%3D%3D?line=3'>4</a>\u001b[0m print_df_info(routes)\n",
      "\u001b[1;31mNameError\u001b[0m: name 'create_folium_map' is not defined"
     ]
    }
   ],
   "source": [
    "routes = gpd.read_file(DATA_DIR + \"osmhistory_railroutes.geojson\")\n",
    "routes.to_postgis(name=\"locations_routes_geo_osmhistory\", if_exists='append', index=False, con=engine)\n",
    "create_folium_map(routes)\n",
    "print_df_info(routes)"
   ]
  },
  {
   "cell_type": "markdown",
   "metadata": {},
   "source": [
    "### Closed UK Railways\n",
    "Data download from a map [created by a contributor on Google maps](https://www.google.com/maps/d/viewer?ie=UTF8&oe=UTF8&msa=0&mid=1-qtKdwA-_7Y1msH5nlUbVKMjdMk&ll=51.17557904660408%2C-0.34163366478264123&z=9)\n",
    "Note that in Postgres/Django the column \"Name\" has been changed to \"name\". Needs to be changed back temporarily for this load to work."
   ]
  },
  {
   "cell_type": "code",
   "execution_count": 10,
   "metadata": {},
   "outputs": [],
   "source": [
    "closed_routes = gpd.read_file(DATA_DIR + \"Closed UK Railways.kml\", driver='KML')\n",
    "closed_routes.head()\n",
    "closed_routes.to_postgis(name=\"locations_routes_geo_closed\", if_exists='append', index=False, con=engine)\n",
    "# create_folium_map(closed_routes)\n",
    "# print_df_info(closed_routes)"
   ]
  },
  {
   "cell_type": "code",
   "execution_count": 8,
   "metadata": {},
   "outputs": [],
   "source": [
    "admin_boundaries = gpd.read_file(\"D:\\\\Data\\\\UK_Admin_Boundaries\\\\\" + \"Counties_and_Unitary_Authorities__December_2019__Boundaries_UK_BFE.shp\")\n",
    "admin_boundaries.to_postgis(name=\"locations_UK_admin_boundaries\", if_exists='append', index=False, con=engine)\n",
    "# create_folium_map(admin_boundaries)\n",
    "# print_df_info(admin_boundaries)"
   ]
  }
 ],
 "metadata": {
  "kernelspec": {
   "display_name": "Python 3.9.2 ('GeoDjango')",
   "language": "python",
   "name": "python3"
  },
  "language_info": {
   "codemirror_mode": {
    "name": "ipython",
    "version": 3
   },
   "file_extension": ".py",
   "mimetype": "text/x-python",
   "name": "python",
   "nbconvert_exporter": "python",
   "pygments_lexer": "ipython3",
   "version": "3.9.2"
  },
  "orig_nbformat": 2,
  "vscode": {
   "interpreter": {
    "hash": "83b37f14035654c95f7c7b64e840d8b46268139ec28fb89403749e6a038e8675"
   }
  }
 },
 "nbformat": 4,
 "nbformat_minor": 2
}
