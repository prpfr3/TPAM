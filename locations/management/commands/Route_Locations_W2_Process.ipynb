{
 "cells": [
  {
   "cell_type": "code",
   "execution_count": 1,
   "metadata": {},
   "outputs": [],
   "source": [
    "import os\n",
    "from bs4 import BeautifulSoup\n",
    "from urllib.request import urlopen\n",
    "\n",
    "DATAIO_DIR = os.path.join(\"D:\\\\Data\", \"TPAM\", \"Route_Diagrams\")"
   ]
  },
  {
   "cell_type": "code",
   "execution_count": 88,
   "metadata": {},
   "outputs": [],
   "source": [
    "def getroute(page):\n",
    "\n",
    "    template = BeautifulSoup(page, 'html.parser').find_all('table')[0]\n",
    "    rows = template.find_all('tr')\n",
    "\n",
    "    for row in rows:\n",
    "\n",
    "        lineout = []\n",
    "        imagesfound = []\n",
    "        imagesfound = row.find_all(\"a\", {\"class\":\"image\"})  \n",
    "\n",
    "        # Look through all the cells and collect the routemap icons\n",
    "        # Use recursive=False to prevent an icon being collected more than once where there is a cell in a cell\n",
    "        for td in row.find_all('td', recursive=False):\n",
    "\n",
    "            if imagesfound == []: # For Routemap type template\n",
    "                lineout.extend(img['src'] for img in td.find_all(\"img\"))\n",
    "            else:\n",
    "                lineout.extend(a['href'] for a in imagesfound)\n",
    "        # Only further process the row if there is an icon on it; \n",
    "        # This eliminates non relevant and recursive lines\n",
    "        # Works correctly for WCML\n",
    "\n",
    "        if lineout and len(lineout) < 20:\n",
    "            linetext = \"\"\n",
    "            for td in row.find_all('td', recursive=False):\n",
    "                if td.get_text(\" \", strip=True) != \"\":\n",
    "                    celltext = td.get_text(\" \", strip=True)\n",
    "\n",
    "                    for a in td.find_all(\"a\", href=True):\n",
    "                        # Collect only attributes which contain '/wiki/' so that icon hrefs are not collected again, nor other non relevant attributes\n",
    "                        if a['href'] \\\n",
    "                            and '/wiki/' in a['href'] \\\n",
    "                            and 'Template' not in a['href'] \\\n",
    "                            and 'File' not in a['href'] \\\n",
    "                            and a.get_text() != \"\" \\\n",
    "                            and a.get_text() in celltext:\n",
    "                            oldstring = a.get_text()\n",
    "                            newstring = f\"[{oldstring}](\" + a['href'] + \")\"\n",
    "                            celltext = celltext.replace(oldstring, newstring)\n",
    "\n",
    "                    linetext = linetext + celltext\n",
    "\n",
    "                    if imagesfound == []: # Only do this for a Routemap type template\n",
    "                        print(f'{celltext=}')\n",
    "\n",
    "            if linetext != \"\" and imagesfound != []: # Only do this for a BSTemplate (after tds merged in linetext)\n",
    "                print(f'{linetext=}')"
   ]
  },
  {
   "cell_type": "code",
   "execution_count": 89,
   "metadata": {},
   "outputs": [
    {
     "name": "stdout",
     "output_type": "stream",
     "text": [
      "linetext='[St Albans Abbey](/wiki/St_Albans_Abbey_railway_station)6Â\\xa0miÂ\\xa045Â\\xa0ch 10.56Â\\xa0km'\n",
      "linetext='[[Hatfield](/wiki/Hatfield_railway_station) & St Albans Railway](/wiki/[Hatfield](/wiki/Hatfield_railway_station)_and_St_Albans_Railway) to [Hatfield](/wiki/Hatfield_railway_station)'\n",
      "linetext='[â€‰A414â€‰](/wiki/A414_road_(Great_Britain))'\n",
      "linetext='[Park Street](/wiki/Park_Street_railway_station_(England))5Â\\xa0miÂ\\xa05Â\\xa0ch 8.15Â\\xa0km'\n",
      "linetext='[Midland Railway](/wiki/Midland_Railway) to [Midland Main Line](/wiki/Midland_Main_Line)'\n",
      "linetext='[How Wood](/wiki/How_Wood_railway_station)4Â\\xa0miÂ\\xa037Â\\xa0ch 7.18Â\\xa0km'\n",
      "linetext='[â€‰M25â€‰](/wiki/M25_motorway_(Great_Britain))'\n",
      "linetext='[Bricket Wood](/wiki/Bricket_Wood_railway_station)3Â\\xa0miÂ\\xa037Â\\xa0ch 5.57Â\\xa0km'\n",
      "linetext='[â€‰M1â€‰](/wiki/M1_motorway_(Great_Britain))'\n",
      "linetext='[Garston](/wiki/Garston_railway_station_(Hertfordshire))1Â\\xa0miÂ\\xa063Â\\xa0ch 2.88Â\\xa0km'\n",
      "linetext='Watford North [ABCL](/wiki/Level_crossing#Types_of_crossing)'\n",
      "linetext='[Watford North](/wiki/Watford_North_railway_station)0Â\\xa0miÂ\\xa075Â\\xa0ch 1.51Â\\xa0km'\n",
      "linetext='[West Coast Main Line](/wiki/West_Coast_Main_Line) to [Rugby](/wiki/Rugby_railway_station)'\n",
      "linetext='[Watford Junction](/wiki/Watford_Junction_railway_station)0Â\\xa0miÂ\\xa015Â\\xa0ch 0.3Â\\xa0km'\n",
      "linetext='Watford South Junction0Â\\xa0mi 0Â\\xa0km'\n",
      "linetext='[Watford](/wiki/Watford_DC_line) [DC line](/wiki/Watford_DC_line) & [West Coast](/wiki/West_Coast_Main_Line) [Main Line](/wiki/West_Coast_Main_Line)'\n"
     ]
    }
   ],
   "source": [
    "res = open(os.path.join(DATAIO_DIR, os.path.join(DATAIO_DIR,\"Abbey_Line.html\")))\n",
    "getroute(res)"
   ]
  },
  {
   "cell_type": "code",
   "execution_count": 90,
   "metadata": {},
   "outputs": [
    {
     "name": "stdout",
     "output_type": "stream",
     "text": [
      "celltext='[Edinburgh Waverley](/wiki/Edinburgh_Waverley_railway_station) ( St Andrew Sq.)'\n",
      "celltext='[Haymarket](/wiki/Haymarket_railway_station)'\n",
      "celltext='[Glasgow Central](/wiki/Glasgow_Central_railway_station) ( [St Enoch](/wiki/St_Enoch_subway_station) )'\n",
      "celltext='[Motherwell](/wiki/Motherwell_railway_station)'\n",
      "celltext='[Carstairs](/wiki/Carstairs_railway_station)'\n",
      "celltext='Carstairs South Junction'\n",
      "celltext='[Lockerbie](/wiki/Lockerbie_railway_station)'\n",
      "celltext='[Scotland](/wiki/Scotland) [England](/wiki/England)'\n",
      "celltext='[Carlisle](/wiki/Carlisle_railway_station)'\n",
      "celltext='[Penrith](/wiki/Penrith_railway_station)'\n",
      "celltext='[Oxenholme Lake District](/wiki/Oxenholme_Lake_District_railway_station) for [Windermere](/wiki/Windermere_railway_station)'\n",
      "celltext='[Lancaster](/wiki/Lancaster_railway_station)'\n",
      "celltext='[Preston](/wiki/Preston_railway_station) for [Blackpool North](/wiki/Blackpool_North_railway_station)'\n",
      "celltext='Euxton Junction'\n",
      "celltext='[Bolton](/wiki/Bolton_railway_station)'\n",
      "celltext='[Wigan North Western](/wiki/Wigan_North_Western_railway_station)'\n",
      "celltext='[Warrington Bank Quay](/wiki/Warrington_Bank_Quay_railway_station)'\n",
      "celltext='[Liverpool Lime Street](/wiki/Liverpool_Lime_Street_railway_station)'\n",
      "celltext='[Liverpool South Parkway](/wiki/Liverpool_South_Parkway_railway_station)'\n",
      "celltext='[Runcorn](/wiki/Runcorn_railway_station)'\n",
      "celltext='[Weaver Junction](/wiki/Weaver_Junction)'\n",
      "celltext='[Manchester Piccadilly](/wiki/Manchester_Piccadilly_railway_station)'\n",
      "celltext='[Stockport](/wiki/Stockport_railway_station)'\n",
      "celltext='[Holyhead](/wiki/Holyhead_railway_station) for [Dublin Ferry Port](/wiki/Dublin_Port)'\n",
      "celltext='[Wales](/wiki/Wales) [England](/wiki/England)'\n",
      "celltext='[Chester](/wiki/Chester_railway_station)'\n",
      "celltext='Cheadle Hulme Junction'\n",
      "celltext='Crewe North Junction [North Wales Coast Line](/wiki/North_Wales_Coast_Line)'\n",
      "celltext='[Crewe](/wiki/Crewe_railway_station)'\n",
      "celltext='[Macclesfield](/wiki/Macclesfield_railway_station)'\n",
      "celltext='[Stoke-on-Trent](/wiki/Stoke-on-Trent_railway_station)'\n",
      "celltext='Stone Junction'\n",
      "celltext='Norton Bridge Junction'\n",
      "celltext='[Stafford](/wiki/Stafford_railway_station)'\n",
      "celltext='Stafford South Junction'\n",
      "celltext='[Colwich Junction](/wiki/Colwich_Junction)'\n",
      "celltext='[Wolverhampton](/wiki/Wolverhampton_railway_station)'\n",
      "celltext='[Lichfield Trent Valley](/wiki/Lichfield_Trent_Valley_railway_station) [Cross-City Line](/wiki/Cross-City_Line)'\n",
      "celltext='[Birmingham New Street](/wiki/Birmingham_New_Street_railway_station)'\n",
      "celltext='[Tamworth](/wiki/Tamworth_railway_station) [Cross Country Route](/wiki/Cross_Country_Route)'\n",
      "celltext='[Birmingham International](/wiki/Birmingham_International_railway_station)'\n",
      "celltext='[Nuneaton](/wiki/Nuneaton_railway_station)'\n",
      "celltext='[Coventry](/wiki/Coventry_railway_station)'\n",
      "celltext='Rugby Trent Valley Junction'\n",
      "celltext='[Rugby](/wiki/Rugby_railway_station)'\n",
      "celltext='Hillmorton Junction'\n",
      "celltext='[Northampton](/wiki/Northampton_railway_station)'\n",
      "celltext='Hanslope Junction'\n",
      "celltext='[Milton Keynes Central](/wiki/Milton_Keynes_Central_railway_station)'\n",
      "celltext='[Watford Junction](/wiki/Watford_Junction_railway_station)'\n",
      "celltext='[London Euston](/wiki/Euston_railway_station)'\n"
     ]
    }
   ],
   "source": [
    "res = open(os.path.join(DATAIO_DIR, os.path.join(DATAIO_DIR,  \"West_Coast_Main_Line.html\")))\n",
    "getroute(res)"
   ]
  },
  {
   "cell_type": "code",
   "execution_count": null,
   "metadata": {},
   "outputs": [],
   "source": [
    "res = open(os.path.join(DATAIO_DIR, os.path.join(DATAIO_DIR,\"Abbey_Line.html\")))\n",
    "getroute(res)"
   ]
  }
 ],
 "metadata": {
  "interpreter": {
   "hash": "83b37f14035654c95f7c7b64e840d8b46268139ec28fb89403749e6a038e8675"
  },
  "kernelspec": {
   "display_name": "Python 3.9.2 ('GeoDjango')",
   "language": "python",
   "name": "python3"
  },
  "language_info": {
   "codemirror_mode": {
    "name": "ipython",
    "version": 3
   },
   "file_extension": ".py",
   "mimetype": "text/x-python",
   "name": "python",
   "nbconvert_exporter": "python",
   "pygments_lexer": "ipython3",
   "version": "3.9.2"
  },
  "orig_nbformat": 4
 },
 "nbformat": 4,
 "nbformat_minor": 2
}
