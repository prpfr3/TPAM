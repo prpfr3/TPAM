{
 "cells": [
  {
   "cell_type": "markdown",
   "metadata": {},
   "source": [
    "*** Manufacturer Load - BRD Merge\n",
    "\n",
    "This program merges BRD data with a dataset that already holds a merge of Wikipedia and RailUK data"
   ]
  },
  {
   "cell_type": "code",
   "execution_count": 1,
   "metadata": {},
   "outputs": [],
   "source": [
    "\n",
    "import os\n",
    "import pandas as pd"
   ]
  },
  {
   "cell_type": "code",
   "execution_count": 9,
   "metadata": {},
   "outputs": [
    {
     "name": "stdout",
     "output_type": "stream",
     "text": [
      "<class 'pandas.core.frame.DataFrame'>\n",
      "RangeIndex: 151 entries, 0 to 150\n",
      "Data columns (total 6 columns):\n",
      " #   Column                       Non-Null Count  Dtype \n",
      "---  ------                       --------------  ----- \n",
      " 0   Wikipedia_slug               148 non-null    object\n",
      " 1   Wikipedia_Manufacturer_Name  151 non-null    object\n",
      " 2   RailUK_Manufacturer_Code     64 non-null     object\n",
      " 3   BRD_Manufacturer_Code        65 non-null     object\n",
      " 4   RailUK_Manufacturer_Name     61 non-null     object\n",
      " 5   Notes                        14 non-null     object\n",
      "dtypes: object(6)\n",
      "memory usage: 7.2+ KB\n",
      "None\n",
      "                      Wikipedia_slug          Wikipedia_Manufacturer_Name  \\\n",
      "0                    /wiki/Alan_Keef                            Alan Keef   \n",
      "1         /wiki/Albert_Barnes_%26_Co                   Albert Barnes & Co   \n",
      "2  /wiki/Andrew_Barclay_Sons_%26_Co.            Andrew Barclay Sons & Co.   \n",
      "3          /wiki/Armstrong_Whitworth                  Armstrong Whitworth   \n",
      "4        /wiki/Ashford_railway_works  Ashford Works (SR/British Railways)   \n",
      "\n",
      "  RailUK_Manufacturer_Code BRD_Manufacturer_Code  \\\n",
      "0                      NaN                   NaN   \n",
      "1                      NaN                   NaN   \n",
      "2                       AB                    AB   \n",
      "3                       AW                    AW   \n",
      "4                       AS                    AS   \n",
      "\n",
      "                      RailUK_Manufacturer_Name  \\\n",
      "0                                          NaN   \n",
      "1                                          NaN   \n",
      "2  Andrew Barclay, Sons & Co. Ltd., Kilmarnock   \n",
      "3                          Armstrong Whitworth   \n",
      "4          Ashford Works (SR/British Railways)   \n",
      "\n",
      "                                               Notes  \n",
      "0                                                NaN  \n",
      "1                                                NaN  \n",
      "2                                                NaN  \n",
      "3                                                NaN  \n",
      "4  Wikipedia Category:Railway_workshops_in_Great_...  \n"
     ]
    }
   ],
   "source": [
    "DATAIO_DIR = os.path.join(\"D:\\\\Data\", \"TPAM\")\n",
    "df = pd.read_csv(os.path.join(DATAIO_DIR, \"Manufacturer_Load_Intermediate.csv\"), header=0, encoding='utf-8')\n",
    "df.rename(columns={\n",
    "                df.columns[1]:\"Wikipedia_Manufacturer_Name\",\n",
    "                df.columns[2]:\"RailUK_Code\",\n",
    "                df.columns[3]:\"BRD_Code\",\n",
    "                df.columns[4]:\"RailUK_Name\",\n",
    "        }, inplace=True)\n",
    "print(df.info())\n",
    "print(df.head())"
   ]
  },
  {
   "cell_type": "code",
   "execution_count": 11,
   "metadata": {},
   "outputs": [
    {
     "name": "stdout",
     "output_type": "stream",
     "text": [
      "<class 'pandas.core.frame.DataFrame'>\n",
      "RangeIndex: 99 entries, 0 to 98\n",
      "Data columns (total 9 columns):\n",
      " #   Column                 Non-Null Count  Dtype  \n",
      "---  ------                 --------------  -----  \n",
      " 0   BRD_Manufacturer_Code  99 non-null     object \n",
      " 1   BRD_Manufacturer_Name  99 non-null     object \n",
      " 2   location               18 non-null     object \n",
      " 3   date_opened            15 non-null     object \n",
      " 4   date_closed            14 non-null     object \n",
      " 5   owner_type             77 non-null     object \n",
      " 6   no_steam_built         46 non-null     float64\n",
      " 7   no_diesel_built        26 non-null     float64\n",
      " 8   no_electric_built      9 non-null      float64\n",
      "dtypes: float64(3), object(6)\n",
      "memory usage: 7.1+ KB\n",
      "None\n",
      "  BRD_Manufacturer_Code                        BRD_Manufacturer_Name location  \\\n",
      "0                    AB  Andrew Barclay, Sons & Co. Ltd., Kilmarnock      NaN   \n",
      "1                    AN                           Andrews, Barr & Co      NaN   \n",
      "2                    AW                          Armstrong Whitworth      NaN   \n",
      "3                    AS                                Ashford Works      NaN   \n",
      "4                   AEI             Associated Electrical Industries      NaN   \n",
      "\n",
      "  date_opened date_closed owner_type  no_steam_built  no_diesel_built  \\\n",
      "0  1859-12-31         NaN    Private            38.0             50.0   \n",
      "1         NaN         NaN    Private             NaN              NaN   \n",
      "2  1897-00-00         NaN    Private           550.0              NaN   \n",
      "3         NaN         NaN        NaN           396.0             33.0   \n",
      "4         NaN         NaN    Private             NaN              NaN   \n",
      "\n",
      "   no_electric_built  \n",
      "0                NaN  \n",
      "1                NaN  \n",
      "2                NaN  \n",
      "3                2.0  \n",
      "4                NaN  \n"
     ]
    }
   ],
   "source": [
    "BRD_filename = os.path.join(DATAIO_DIR, \"Manufacturer_Extract_BRD.csv\")\n",
    "\n",
    "df_BRD = pd.read_csv(BRD_filename, header=0, encoding='utf-8')\n",
    "df_BRD.rename(columns={df_BRD.columns[0]:\"BRD_Code\",}, inplace=True)\n",
    "df_BRD.rename(columns={df_BRD.columns[1]:\"BRD_Name\",}, inplace=True)\n",
    "df_BRD.drop(['map', 'web'], axis=1, inplace=True) #Drop the map and the web columns\n",
    "print(df_BRD.info())\n",
    "print(df_BRD.head())"
   ]
  },
  {
   "cell_type": "code",
   "execution_count": 12,
   "metadata": {},
   "outputs": [],
   "source": [
    "df_merge = pd.merge(df, df_BRD, how=\"outer\", on=\"BRD_Code\")"
   ]
  },
  {
   "cell_type": "code",
   "execution_count": 13,
   "metadata": {},
   "outputs": [],
   "source": [
    "df_merge.to_csv(os.path.join(DATAIO_DIR, \"Manufacturer_Load_Final.csv\"), encoding='utf-8')"
   ]
  }
 ],
 "metadata": {
  "interpreter": {
   "hash": "09e5b2bbb52190bd97711540a0547ff5681045c5f04fa7ba825810f9b2d91141"
  },
  "kernelspec": {
   "display_name": "Python 3.9.2 64-bit ('GeoDjango': conda)",
   "language": "python",
   "name": "python3"
  },
  "language_info": {
   "codemirror_mode": {
    "name": "ipython",
    "version": 3
   },
   "file_extension": ".py",
   "mimetype": "text/x-python",
   "name": "python",
   "nbconvert_exporter": "python",
   "pygments_lexer": "ipython3",
   "version": "3.9.2"
  },
  "orig_nbformat": 4
 },
 "nbformat": 4,
 "nbformat_minor": 2
}
