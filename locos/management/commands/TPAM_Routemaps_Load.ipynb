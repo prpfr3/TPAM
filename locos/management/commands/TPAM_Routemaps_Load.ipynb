{
 "cells": [
  {
   "cell_type": "markdown",
   "metadata": {},
   "source": [
    "# OSM Kent Railways Import\n",
    "\n",
    "Go to (Overpass Turbo)[https://overpass-turbo.eu/] and export railway route data via the wizard with route=train\n"
   ]
  },
  {
   "cell_type": "code",
   "execution_count": 1,
   "metadata": {},
   "outputs": [],
   "source": [
    "import configparser\n",
    "import os\n",
    "import matplotlib.pyplot as plt\n",
    "import geopandas as gpd\n",
    "import folium\n",
    "import webbrowser\n",
    "from sqlalchemy import create_engine\n",
    "\n",
    "\n",
    "DATA_DIR = os.path.join('D:\\\\Data\\\\TPAM\\\\')\n",
    "gpd.io.file.fiona.drvsupport.supported_drivers['KML'] = 'rw'"
   ]
  },
  {
   "cell_type": "code",
   "execution_count": 2,
   "metadata": {},
   "outputs": [
    {
     "name": "stderr",
     "output_type": "stream",
     "text": [
      "c:\\Users\\paulf\\anaconda3\\envs\\GeoDjango\\lib\\site-packages\\geopandas\\geodataframe.py:577: RuntimeWarning: Sequential read of iterator was interrupted. Resetting iterator. This can negatively impact the performance.\n",
      "  for feature in features_lst:\n"
     ]
    }
   ],
   "source": [
    "\n",
    "osmhistory_railroutes = gpd.read_file(DATA_DIR + \"osmhistory_railroutes.geojson\")\n",
    "closed_routes = gpd.read_file(DATA_DIR + \"Closed UK Railways.kml\", driver='KML')"
   ]
  },
  {
   "cell_type": "code",
   "execution_count": 3,
   "metadata": {},
   "outputs": [],
   "source": [
    "def create_folium_map(routes_to_map):\n",
    "    m = folium.Map(location=[52.48, 0], zoom_start= 7, tiles='cartodbpositron')\n",
    "    folium.GeoJson(data=routes_to_map[\"geometry\"]).add_to(m)\n",
    "    m.save('temporary_map.html')\n",
    "    webbrowser.open('temporary_map.html', new=2)\n",
    "    return"
   ]
  },
  {
   "cell_type": "code",
   "execution_count": 4,
   "metadata": {},
   "outputs": [],
   "source": [
    "def print_df_info(df):\n",
    "    #routes.to_csv('df.csv', index=False)\n",
    "    print(type(df))\n",
    "    print(df.head())\n",
    "    print(df.crs)\n",
    "    print(df.total_bounds)\n",
    "    print(df.info())\n",
    "    df.plot(figsize=(6, 6))\n",
    "    plt.show()\n",
    "    return"
   ]
  },
  {
   "cell_type": "code",
   "execution_count": 5,
   "metadata": {},
   "outputs": [],
   "source": [
    "\n",
    "config = configparser.ConfigParser()\n",
    "KEYS_DIR = os.path.join(\"D:\\\\Data\", \"API_Keys\")\n",
    "config.read(os.path.join(KEYS_DIR, \"TPAMWeb.ini\"))\n",
    "db_pswd = config['MySQL']['p']\n",
    "engine = create_engine('postgresql://postgres:' + db_pswd + '@localhost/TPAM')\n"
   ]
  },
  {
   "cell_type": "code",
   "execution_count": 10,
   "metadata": {},
   "outputs": [
    {
     "name": "stdout",
     "output_type": "stream",
     "text": [
      "<class 'geopandas.geodataframe.GeoDataFrame'>\n",
      "                id              @id               from  \\\n",
      "0   relation/76951   relation/76951           Oostende   \n",
      "1  relation/112662  relation/112662          Bruxelles   \n",
      "2  relation/125414  relation/125414  London Paddington   \n",
      "3  relation/127126  relation/127126    Ipswich Station   \n",
      "4  relation/138808  relation/138808               None   \n",
      "\n",
      "                                             name  \\\n",
      "0              IC-01 Oostende - Bruxelles - Eupen   \n",
      "1                 Eurostar : Bruxelles -> Londres   \n",
      "2               GWR: London Paddington - Penzance   \n",
      "3  Felixstowe Branch Line - Ipswich to Felixstowe   \n",
      "4                                    Bittern Line   \n",
      "\n",
      "                           name:de       network network:wikidata  \\\n",
      "0  IC-01 Ostende - Brüssel - Eupen            IC         Q1665939   \n",
      "1                             None      Eurostar          Q156013   \n",
      "2                             None      national             None   \n",
      "3                             None          None             None   \n",
      "4                             None  Network Rail         Q1501071   \n",
      "\n",
      "         network:wikipedia                    operator  \\\n",
      "0  fr:InterCity (Belgique)                   NMBS/SNCB   \n",
      "1              fr:Eurostar  Eurostar International Ltd   \n",
      "2                     None       Great Western Railway   \n",
      "3                     None                Network Rail   \n",
      "4          en:Network Rail                Network rail   \n",
      "\n",
      "  public_transport:version  ... cargo:vehicle motor_vehicle segment  \\\n",
      "0                        2  ...          None          None    None   \n",
      "1                        2  ...          None          None    None   \n",
      "2                        2  ...          None          None    None   \n",
      "3                     None  ...          None          None    None   \n",
      "4                     None  ...          None          None    None   \n",
      "\n",
      "  internet_access internet_access:fee surveillance surveillance:type historic  \\\n",
      "0            None                None         None              None     None   \n",
      "1            None                None         None              None     None   \n",
      "2            None                None         None              None     None   \n",
      "3            None                None         None              None     None   \n",
      "4            None                None         None              None     None   \n",
      "\n",
      "  @relations                                           geometry  \n",
      "0       None  LINESTRING (2.92626 51.22858, 2.92632 51.22848...  \n",
      "1       None  LINESTRING (4.33551 50.83669, 4.33466 50.83603...  \n",
      "2       None  MULTILINESTRING ((-0.17743 51.51646, -0.17884 ...  \n",
      "3       None  MULTILINESTRING ((1.12710 52.05826, 1.12688 52...  \n",
      "4       None  MULTILINESTRING ((1.29232 52.93022, 1.29093 52...  \n",
      "\n",
      "[5 rows x 95 columns]\n",
      "epsg:4326\n",
      "[-5.5326995 43.3027948  6.0389118 57.4928781]\n",
      "<class 'geopandas.geodataframe.GeoDataFrame'>\n",
      "RangeIndex: 3088 entries, 0 to 3087\n",
      "Data columns (total 95 columns):\n",
      " #   Column                    Non-Null Count  Dtype   \n",
      "---  ------                    --------------  -----   \n",
      " 0   id                        3088 non-null   object  \n",
      " 1   @id                       3088 non-null   object  \n",
      " 2   from                      410 non-null    object  \n",
      " 3   name                      472 non-null    object  \n",
      " 4   name:de                   5 non-null      object  \n",
      " 5   network                   326 non-null    object  \n",
      " 6   network:wikidata          160 non-null    object  \n",
      " 7   network:wikipedia         158 non-null    object  \n",
      " 8   operator                  445 non-null    object  \n",
      " 9   public_transport:version  346 non-null    object  \n",
      " 10  ref                       317 non-null    object  \n",
      " 11  route                     479 non-null    object  \n",
      " 12  service                   139 non-null    object  \n",
      " 13  to                        411 non-null    object  \n",
      " 14  type                      479 non-null    object  \n",
      " 15  bicycle                   27 non-null     object  \n",
      " 16  by_night                  26 non-null     object  \n",
      " 17  colour                    216 non-null    object  \n",
      " 18  dining                    16 non-null     object  \n",
      " 19  from:de                   3 non-null      object  \n",
      " 20  from:fr                   10 non-null     object  \n",
      " 21  highspeed                 18 non-null     object  \n",
      " 22  name:en                   10 non-null     object  \n",
      " 23  name:fr                   11 non-null     object  \n",
      " 24  reservation               18 non-null     object  \n",
      " 25  to:fr                     5 non-null      object  \n",
      " 26  via                       85 non-null     object  \n",
      " 27  wheelchair                38 non-null     object  \n",
      " 28  description               9 non-null      object  \n",
      " 29  duration                  115 non-null    object  \n",
      " 30  tt_ref                    7 non-null      object  \n",
      " 31  SRS                       5 non-null      object  \n",
      " 32  electrified               6 non-null      object  \n",
      " 33  freight_gauge             4 non-null      object  \n",
      " 34  interval                  123 non-null    object  \n",
      " 35  line_classification       5 non-null      object  \n",
      " 36  strategic_route           8 non-null      object  \n",
      " 37  wikidata                  32 non-null     object  \n",
      " 38  wikipedia                 27 non-null     object  \n",
      " 39  brand                     44 non-null     object  \n",
      " 40  colour:infill             42 non-null     object  \n",
      " 41  frequency                 35 non-null     object  \n",
      " 42  ref:colour                56 non-null     object  \n",
      " 43  ref:colour_bg             56 non-null     object  \n",
      " 44  ref:colour_tx             56 non-null     object  \n",
      " 45  text_colour               18 non-null     object  \n",
      " 46  tracks                    3 non-null      object  \n",
      " 47  voltage                   3 non-null      object  \n",
      " 48  railway                   6 non-null      object  \n",
      " 49  url                       2 non-null      object  \n",
      " 50  note                      11 non-null     object  \n",
      " 51  source:ref                2 non-null      object  \n",
      " 52  comment                   2 non-null      object  \n",
      " 53  monorail                  1 non-null      object  \n",
      " 54  opening_hours             33 non-null     object  \n",
      " 55  operator:cy               3 non-null      object  \n",
      " 56  operator:en               3 non-null      object  \n",
      " 57  note:colour               1 non-null      object  \n",
      " 58  official_ref              36 non-null     object  \n",
      " 59  operator:wikidata         72 non-null     object  \n",
      " 60  operator:wikipedia        72 non-null     object  \n",
      " 61  line                      1 non-null      object  \n",
      " 62  name:cy                   1 non-null      object  \n",
      " 63  name:nl                   3 non-null      object  \n",
      " 64  to:de                     3 non-null      object  \n",
      " 65  old_ref                   10 non-null     object  \n",
      " 66  fee                       20 non-null     object  \n",
      " 67  headway                   2 non-null      object  \n",
      " 68  source                    3 non-null      object  \n",
      " 69  not:network:wikidata      1 non-null      object  \n",
      " 70  website                   5 non-null      object  \n",
      " 71  name:oc                   2 non-null      object  \n",
      " 72  source:name:oc            2 non-null      object  \n",
      " 73  passenger                 5 non-null      object  \n",
      " 74  alt_name                  2 non-null      object  \n",
      " 75  distance                  1 non-null      object  \n",
      " 76  maxwidth                  1 non-null      object  \n",
      " 77  roundtrip                 3 non-null      object  \n",
      " 78  usage                     2 non-null      object  \n",
      " 79  wikipedia:en              1 non-null      object  \n",
      " 80  from:nl                   2 non-null      object  \n",
      " 81  ref:ProRail               2 non-null      object  \n",
      " 82  to:nl                     2 non-null      object  \n",
      " 83  bus                       2 non-null      object  \n",
      " 84  cargo:bus                 2 non-null      object  \n",
      " 85  cargo:vehicle             2 non-null      object  \n",
      " 86  motor_vehicle             2 non-null      object  \n",
      " 87  segment                   2 non-null      object  \n",
      " 88  internet_access           2 non-null      object  \n",
      " 89  internet_access:fee       2 non-null      object  \n",
      " 90  surveillance              2 non-null      object  \n",
      " 91  surveillance:type         2 non-null      object  \n",
      " 92  historic                  1 non-null      object  \n",
      " 93  @relations                2609 non-null   object  \n",
      " 94  geometry                  3088 non-null   geometry\n",
      "dtypes: geometry(1), object(94)\n",
      "memory usage: 2.2+ MB\n",
      "None\n"
     ]
    },
    {
     "data": {
      "image/png": "[encoded data removed]",
      "text/plain": [
       "<Figure size 432x432 with 1 Axes>"
      ]
     },
     "metadata": {
      "needs_background": "light"
     },
     "output_type": "display_data"
    }
   ],
   "source": [
    "routes = gpd.read_file(DATA_DIR + \"osm_railroutes.geojson\")\n",
    "routes.to_postgis(name=\"locos_routes_geo_osm\", if_exists='append', index=False, con=engine)\n",
    "create_folium_map(routes)\n",
    "print_df_info(routes)"
   ]
  },
  {
   "cell_type": "code",
   "execution_count": 12,
   "metadata": {},
   "outputs": [
    {
     "name": "stdout",
     "output_type": "stream",
     "text": [
      "<class 'geopandas.geodataframe.GeoDataFrame'>\n",
      "                 id               @id building layer  \\\n",
      "0  relation/2693956  relation/2693956      yes     1   \n",
      "1  relation/2693958  relation/2693958      yes  None   \n",
      "2  relation/2693959  relation/2693959      yes  None   \n",
      "3  relation/2693960  relation/2693960      yes    -1   \n",
      "4     way/198163527     way/198163527      yes  None   \n",
      "\n",
      "                                   name public_transport  railway  start_date  \\\n",
      "0            St Pancras Railway Station          station  station  1868-10-01   \n",
      "1  St Pancras Railway Station Extension          station  station        2007   \n",
      "2                          King's Cross          station  station        1852   \n",
      "3                     London Paddington          station  station        1838   \n",
      "4                            Wagon Lift             None  station        1854   \n",
      "\n",
      "  train          type  ... name:1886-1937 name:1937- source:data  \\\n",
      "0   yes  multipolygon  ...           None       None        None   \n",
      "1   yes  multipolygon  ...           None       None        None   \n",
      "2   yes  multipolygon  ...           None       None        None   \n",
      "3   yes  multipolygon  ...           None       None        None   \n",
      "4  None          None  ...           None       None        None   \n",
      "\n",
      "  name:1932-1934 name:1881-1895 start_date:source wikimedia_commons station  \\\n",
      "0           None           None              None              None    None   \n",
      "1           None           None              None              None    None   \n",
      "2           None           None              None              None    None   \n",
      "3           None           None              None              None    None   \n",
      "4           None           None              None              None    None   \n",
      "\n",
      "  subway                                           geometry  \n",
      "0   None  POLYGON ((-0.12606 51.52969, -0.12449 51.53018...  \n",
      "1   None  POLYGON ((-0.12710 51.53169, -0.12703 51.53171...  \n",
      "2   None  POLYGON ((-0.12369 51.53318, -0.12400 51.53324...  \n",
      "3   None  POLYGON ((-0.17611 51.51645, -0.17594 51.51653...  \n",
      "4   None  POLYGON ((-1.55661 53.79571, -1.55652 53.79562...  \n",
      "\n",
      "[5 rows x 70 columns]\n",
      "epsg:4326\n",
      "[-8.6248353 50.0911941  3.0346697 57.1347826]\n",
      "<class 'geopandas.geodataframe.GeoDataFrame'>\n",
      "RangeIndex: 2708 entries, 0 to 2707\n",
      "Data columns (total 70 columns):\n",
      " #   Column                 Non-Null Count  Dtype   \n",
      "---  ------                 --------------  -----   \n",
      " 0   id                     2708 non-null   object  \n",
      " 1   @id                    2708 non-null   object  \n",
      " 2   building               71 non-null     object  \n",
      " 3   layer                  278 non-null    object  \n",
      " 4   name                   1508 non-null   object  \n",
      " 5   public_transport       33 non-null     object  \n",
      " 6   railway                2708 non-null   object  \n",
      " 7   start_date             974 non-null    object  \n",
      " 8   train                  28 non-null     object  \n",
      " 9   type                   4 non-null      object  \n",
      " 10  wikidata               53 non-null     object  \n",
      " 11  wikipedia              42 non-null     object  \n",
      " 12  start_date:note        25 non-null     object  \n",
      " 13  area                   66 non-null     object  \n",
      " 14  end_date               316 non-null    object  \n",
      " 15  source                 133 non-null    object  \n",
      " 16  building:levels        3 non-null      object  \n",
      " 17  structure              1 non-null      object  \n",
      " 18  landuse                3 non-null      object  \n",
      " 19  name:1863-1908         2 non-null      object  \n",
      " 20  alt_name               4 non-null      object  \n",
      " 21  operator               18 non-null     object  \n",
      " 22  name:1848-1966         1 non-null      object  \n",
      " 23  name:1966-2021         1 non-null      object  \n",
      " 24  architect              1 non-null      object  \n",
      " 25  architect:wikipedia    1 non-null      object  \n",
      " 26  name:1847-1922         1 non-null      object  \n",
      " 27  name:1922              1 non-null      object  \n",
      " 28  company:1898           1 non-null      object  \n",
      " 29  company:end            1 non-null      object  \n",
      " 30  company:start          1 non-null      object  \n",
      " 31  end_date:goods         1 non-null      object  \n",
      " 32  gauge                  68 non-null     object  \n",
      " 33  start_date:GWR         1 non-null      object  \n",
      " 34  embankment             35 non-null     object  \n",
      " 35  bridge                 365 non-null    object  \n",
      " 36  tracks                 18 non-null     object  \n",
      " 37  service                27 non-null     object  \n",
      " 38  name_1                 2 non-null      object  \n",
      " 39  cutting                4 non-null      object  \n",
      " 40  man_made               1 non-null      object  \n",
      " 41  tunnel                 42 non-null     object  \n",
      " 42  tram                   1 non-null      object  \n",
      " 43  highway                2 non-null      object  \n",
      " 44  surface                2 non-null      object  \n",
      " 45  ford                   1 non-null      object  \n",
      " 46  level                  13 non-null     object  \n",
      " 47  fixme                  8 non-null      object  \n",
      " 48  note                   13 non-null     object  \n",
      " 49  electrified            75 non-null     object  \n",
      " 50  usage                  69 non-null     object  \n",
      " 51  country                15 non-null     object  \n",
      " 52  end_date:edtf          28 non-null     object  \n",
      " 53  end_date:note          26 non-null     object  \n",
      " 54  start_date:edtf        23 non-null     object  \n",
      " 55  source:operator        1 non-null      object  \n",
      " 56  operator:1940          1 non-null      object  \n",
      " 57  end_date:freight       4 non-null      object  \n",
      " 58  end_date:passengers    4 non-null      object  \n",
      " 59  start_date:passengers  5 non-null      object  \n",
      " 60  name:1886-1937         1 non-null      object  \n",
      " 61  name:1937-             1 non-null      object  \n",
      " 62  source:data            1 non-null      object  \n",
      " 63  name:1932-1934         1 non-null      object  \n",
      " 64  name:1881-1895         1 non-null      object  \n",
      " 65  start_date:source      1 non-null      object  \n",
      " 66  wikimedia_commons      1 non-null      object  \n",
      " 67  station                1 non-null      object  \n",
      " 68  subway                 1 non-null      object  \n",
      " 69  geometry               2708 non-null   geometry\n",
      "dtypes: geometry(1), object(69)\n",
      "memory usage: 1.4+ MB\n",
      "None\n"
     ]
    },
    {
     "data": {
      "image/png": "[encoded data removed]",
      "text/plain": [
       "<Figure size 432x432 with 1 Axes>"
      ]
     },
     "metadata": {
      "needs_background": "light"
     },
     "output_type": "display_data"
    }
   ],
   "source": [
    "routes = gpd.read_file(DATA_DIR + \"osmhistory_railroutes.geojson\")\n",
    "routes.to_postgis(name=\"locos_routes_geo_osmhistory\", if_exists='append', index=False, con=engine)\n",
    "create_folium_map(routes)\n",
    "print_df_info(routes)"
   ]
  },
  {
   "cell_type": "markdown",
   "metadata": {},
   "source": [
    "### Closed UK Railways\n",
    "Data download from a map [created by a contributor on Google maps](https://www.google.com/maps/d/viewer?ie=UTF8&oe=UTF8&msa=0&mid=1-qtKdwA-_7Y1msH5nlUbVKMjdMk&ll=51.17557904660408%2C-0.34163366478264123&z=9)\n",
    "Note that in Postgres/Django the column \"Name\" has been changed to \"name\". Needs to be changed back temporarily for this load to work."
   ]
  },
  {
   "cell_type": "code",
   "execution_count": 13,
   "metadata": {},
   "outputs": [
    {
     "name": "stderr",
     "output_type": "stream",
     "text": [
      "c:\\Users\\paulf\\anaconda3\\envs\\GeoDjango\\lib\\site-packages\\geopandas\\geodataframe.py:577: RuntimeWarning: Sequential read of iterator was interrupted. Resetting iterator. This can negatively impact the performance.\n",
      "  for feature in features_lst:\n"
     ]
    },
    {
     "name": "stdout",
     "output_type": "stream",
     "text": [
      "<class 'geopandas.geodataframe.GeoDataFrame'>\n",
      "                                    Name  \\\n",
      "0                Solway Junction Railway   \n",
      "1                     Carlisle - Silloth   \n",
      "2                   Brampton Town branch   \n",
      "3                  Gairs Colliery branch   \n",
      "4  Lambley - Brampton Junction (Cumbria)   \n",
      "\n",
      "                                         Description  \\\n",
      "0  Primarily built as route for Cumbrian ironston...   \n",
      "1                 Opened:<br>- 1856Closed:<br>- 1964   \n",
      "2  Opened:<br>- 1775 (Earl of Carlisle's Waggonwa...   \n",
      "3                                                      \n",
      "4  Brampton & Hartleyburn Railway<br><br>Formerly...   \n",
      "\n",
      "                                            geometry  \n",
      "0  LINESTRING Z (-3.21041 55.04879 0.00000, -3.21...  \n",
      "1  LINESTRING Z (-3.38961 54.86762 0.00000, -3.38...  \n",
      "2  LINESTRING Z (-2.70181 54.93277 0.00000, -2.70...  \n",
      "3  LINESTRING Z (-2.64581 54.92878 0.00000, -2.64...  \n",
      "4  LINESTRING Z (-2.50979 54.91742 0.00000, -2.50...  \n",
      "epsg:4326\n",
      "[-5.346484 50.10552   1.750122 55.761389]\n",
      "<class 'geopandas.geodataframe.GeoDataFrame'>\n",
      "RangeIndex: 3924 entries, 0 to 3923\n",
      "Data columns (total 3 columns):\n",
      " #   Column       Non-Null Count  Dtype   \n",
      "---  ------       --------------  -----   \n",
      " 0   Name         3924 non-null   object  \n",
      " 1   Description  3924 non-null   object  \n",
      " 2   geometry     3924 non-null   geometry\n",
      "dtypes: geometry(1), object(2)\n",
      "memory usage: 92.1+ KB\n",
      "None\n"
     ]
    },
    {
     "data": {
      "image/png": "[encoded data removed]",
      "text/plain": [
       "<Figure size 432x432 with 1 Axes>"
      ]
     },
     "metadata": {
      "needs_background": "light"
     },
     "output_type": "display_data"
    }
   ],
   "source": [
    "closed_routes = gpd.read_file(DATA_DIR + \"Closed UK Railways.kml\", driver='KML')\n",
    "closed_routes.to_postgis(name=\"locos_routes_geo_closed\", if_exists='append', index=False, con=engine)\n",
    "create_folium_map(closed_routes)\n",
    "print_df_info(closed_routes)"
   ]
  },
  {
   "cell_type": "code",
   "execution_count": 10,
   "metadata": {},
   "outputs": [
    {
     "ename": "ValueError",
     "evalue": "The CRS of the target table (EPSG:4326) differs from the CRS of current GeoDataFrame (EPSG:27700).",
     "output_type": "error",
     "traceback": [
      "\u001b[1;31m---------------------------------------------------------------------------\u001b[0m",
      "\u001b[1;31mValueError\u001b[0m                                Traceback (most recent call last)",
      "\u001b[1;32md:\\OneDrive\\Source\\Python Projects\\TPAM\\locos\\management\\commands\\TPAM_Routemaps_Load.ipynb Cell 10'\u001b[0m in \u001b[0;36m<module>\u001b[1;34m\u001b[0m\n\u001b[0;32m      <a href='vscode-notebook-cell:/d%3A/OneDrive/Source/Python%20Projects/TPAM/locos/management/commands/TPAM_Routemaps_Load.ipynb#ch0000009?line=0'>1</a>\u001b[0m admin_boundaries \u001b[39m=\u001b[39m gpd\u001b[39m.\u001b[39mread_file(\u001b[39m\"\u001b[39m\u001b[39mD:\u001b[39m\u001b[39m\\\\\u001b[39;00m\u001b[39mData\u001b[39m\u001b[39m\\\\\u001b[39;00m\u001b[39mUK_Admin_Boundaries\u001b[39m\u001b[39m\\\\\u001b[39;00m\u001b[39m\"\u001b[39m \u001b[39m+\u001b[39m \u001b[39m\"\u001b[39m\u001b[39mCounties_and_Unitary_Authorities__December_2019__Boundaries_UK_BFE.shp\u001b[39m\u001b[39m\"\u001b[39m)\n\u001b[1;32m----> <a href='vscode-notebook-cell:/d%3A/OneDrive/Source/Python%20Projects/TPAM/locos/management/commands/TPAM_Routemaps_Load.ipynb#ch0000009?line=1'>2</a>\u001b[0m admin_boundaries\u001b[39m.\u001b[39;49mto_postgis(name\u001b[39m=\u001b[39;49m\u001b[39m\"\u001b[39;49m\u001b[39mUK_admin_boundaries\u001b[39;49m\u001b[39m\"\u001b[39;49m, if_exists\u001b[39m=\u001b[39;49m\u001b[39m'\u001b[39;49m\u001b[39mappend\u001b[39;49m\u001b[39m'\u001b[39;49m, index\u001b[39m=\u001b[39;49m\u001b[39mFalse\u001b[39;49;00m, con\u001b[39m=\u001b[39;49mengine)\n\u001b[0;32m      <a href='vscode-notebook-cell:/d%3A/OneDrive/Source/Python%20Projects/TPAM/locos/management/commands/TPAM_Routemaps_Load.ipynb#ch0000009?line=2'>3</a>\u001b[0m create_folium_map(admin_boundaries)\n\u001b[0;32m      <a href='vscode-notebook-cell:/d%3A/OneDrive/Source/Python%20Projects/TPAM/locos/management/commands/TPAM_Routemaps_Load.ipynb#ch0000009?line=3'>4</a>\u001b[0m print_df_info(admin_boundaries)\n",
      "File \u001b[1;32mc:\\Users\\paulf\\anaconda3\\envs\\GeoDjango\\lib\\site-packages\\geopandas\\geodataframe.py:1683\u001b[0m, in \u001b[0;36mGeoDataFrame.to_postgis\u001b[1;34m(self, name, con, schema, if_exists, index, index_label, chunksize, dtype)\u001b[0m\n\u001b[0;32m   1622\u001b[0m \u001b[39mdef\u001b[39;00m \u001b[39mto_postgis\u001b[39m(\n\u001b[0;32m   1623\u001b[0m     \u001b[39mself\u001b[39m,\n\u001b[0;32m   1624\u001b[0m     name,\n\u001b[1;32m   (...)\u001b[0m\n\u001b[0;32m   1631\u001b[0m     dtype\u001b[39m=\u001b[39m\u001b[39mNone\u001b[39;00m,\n\u001b[0;32m   1632\u001b[0m ):\n\u001b[0;32m   1634\u001b[0m     \u001b[39m\"\"\"\u001b[39;00m\n\u001b[0;32m   1635\u001b[0m \u001b[39m    Upload GeoDataFrame into PostGIS database.\u001b[39;00m\n\u001b[0;32m   1636\u001b[0m \n\u001b[1;32m   (...)\u001b[0m\n\u001b[0;32m   1681\u001b[0m \n\u001b[0;32m   1682\u001b[0m \u001b[39m    \"\"\"\u001b[39;00m\n\u001b[1;32m-> 1683\u001b[0m     geopandas\u001b[39m.\u001b[39;49mio\u001b[39m.\u001b[39;49msql\u001b[39m.\u001b[39;49m_write_postgis(\n\u001b[0;32m   1684\u001b[0m         \u001b[39mself\u001b[39;49m, name, con, schema, if_exists, index, index_label, chunksize, dtype\n\u001b[0;32m   1685\u001b[0m     )\n",
      "File \u001b[1;32mc:\\Users\\paulf\\anaconda3\\envs\\GeoDjango\\lib\\site-packages\\geopandas\\io\\sql.py:427\u001b[0m, in \u001b[0;36m_write_postgis\u001b[1;34m(gdf, name, con, schema, if_exists, index, index_label, chunksize, dtype)\u001b[0m\n\u001b[0;32m    420\u001b[0m             \u001b[39mif\u001b[39;00m target_srid \u001b[39m!=\u001b[39m srid:\n\u001b[0;32m    421\u001b[0m                 msg \u001b[39m=\u001b[39m (\n\u001b[0;32m    422\u001b[0m                     \u001b[39m\"\u001b[39m\u001b[39mThe CRS of the target table (EPSG:\u001b[39m\u001b[39m{epsg_t}\u001b[39;00m\u001b[39m) differs from the \u001b[39m\u001b[39m\"\u001b[39m\n\u001b[0;32m    423\u001b[0m                     \u001b[39m\"\u001b[39m\u001b[39mCRS of current GeoDataFrame (EPSG:\u001b[39m\u001b[39m{epsg_src}\u001b[39;00m\u001b[39m).\u001b[39m\u001b[39m\"\u001b[39m\u001b[39m.\u001b[39mformat(\n\u001b[0;32m    424\u001b[0m                         epsg_t\u001b[39m=\u001b[39mtarget_srid, epsg_src\u001b[39m=\u001b[39msrid\n\u001b[0;32m    425\u001b[0m                     )\n\u001b[0;32m    426\u001b[0m                 )\n\u001b[1;32m--> 427\u001b[0m                 \u001b[39mraise\u001b[39;00m \u001b[39mValueError\u001b[39;00m(msg)\n\u001b[0;32m    429\u001b[0m \u001b[39mwith\u001b[39;00m _get_conn(con) \u001b[39mas\u001b[39;00m connection:\n\u001b[0;32m    431\u001b[0m     gdf\u001b[39m.\u001b[39mto_sql(\n\u001b[0;32m    432\u001b[0m         name,\n\u001b[0;32m    433\u001b[0m         connection,\n\u001b[1;32m   (...)\u001b[0m\n\u001b[0;32m    440\u001b[0m         method\u001b[39m=\u001b[39m_psql_insert_copy,\n\u001b[0;32m    441\u001b[0m     )\n",
      "\u001b[1;31mValueError\u001b[0m: The CRS of the target table (EPSG:4326) differs from the CRS of current GeoDataFrame (EPSG:27700)."
     ]
    }
   ],
   "source": [
    "admin_boundaries = gpd.read_file(\"D:\\\\Data\\\\UK_Admin_Boundaries\\\\\" + \"Counties_and_Unitary_Authorities__December_2019__Boundaries_UK_BFE.shp\")\n",
    "admin_boundaries.to_postgis(name=\"UK_admin_boundaries\", if_exists='append', index=False, con=engine)\n",
    "create_folium_map(admin_boundaries)\n",
    "print_df_info(admin_boundaries)"
   ]
  }
 ],
 "metadata": {
  "kernelspec": {
   "display_name": "Python 3.9.2 ('GeoDjango')",
   "language": "python",
   "name": "python3"
  },
  "language_info": {
   "codemirror_mode": {
    "name": "ipython",
    "version": 3
   },
   "file_extension": ".py",
   "mimetype": "text/x-python",
   "name": "python",
   "nbconvert_exporter": "python",
   "pygments_lexer": "ipython3",
   "version": "3.9.2"
  },
  "orig_nbformat": 2,
  "vscode": {
   "interpreter": {
    "hash": "83b37f14035654c95f7c7b64e840d8b46268139ec28fb89403749e6a038e8675"
   }
  }
 },
 "nbformat": 4,
 "nbformat_minor": 2
}
