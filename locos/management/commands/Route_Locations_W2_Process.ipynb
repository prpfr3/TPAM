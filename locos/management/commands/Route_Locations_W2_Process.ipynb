{
 "cells": [
  {
   "cell_type": "code",
   "execution_count": 1,
   "metadata": {},
   "outputs": [],
   "source": [
    "import os\n",
    "from bs4 import BeautifulSoup\n",
    "from urllib.request import urlopen"
   ]
  },
  {
   "cell_type": "code",
   "execution_count": 2,
   "metadata": {},
   "outputs": [],
   "source": [
    "def getroute(page):\n",
    "\n",
    "    template = BeautifulSoup(page, 'html.parser').find_all('table')[0]\n",
    "    rows = template.find_all('tr')\n",
    "\n",
    "    # rows = [r for r in template.findAll('tr') if r.find('tr')]\n",
    "\n",
    "    for row in rows:\n",
    "        lineout = []\n",
    "        imagesfound = []\n",
    "\n",
    "        for td in row.find_all('td', recursive=False):\n",
    "\n",
    "            imagesfound = td.find_all(\"a\", {\"class\":\"image\"})\n",
    "\n",
    "            for a in imagesfound: # Targets a BS type template\n",
    "                try:\n",
    "                    lineout.append(\"Icon:\" + a['href'])\n",
    "                except:\n",
    "                    pass\n",
    "\n",
    "        for td in row.find_all('td', recursive=False): # Targets a Routemap type template           \n",
    "            \n",
    "            if imagesfound == []: \n",
    "                for img in td.find_all(\"img\"):\n",
    "                    try:\n",
    "                        lineout.append(\"Icon:\" + img['title'])\n",
    "                    except:\n",
    "                        pass\n",
    "\n",
    "        if len(lineout) > 0: # Only go on to complete the line if there is an icon on it; this eliminates non relevant and recursive lines\n",
    "            text = \"Text:\"\n",
    "            text = text + row.get_text().replace('\\n', '')\n",
    "            text = text.rstrip()\n",
    "            if text != \"Text:\" and text != \"Text:vteLegend\":\n",
    "                lineout.append(text)\n",
    "\n",
    "            for a in row.find_all(\"a\", href=True):\n",
    "                href = \"Href:\"\n",
    "                if a['href'] and '/wiki/' in a['href'] and 'Template' not in a['href'] and 'File' not in a['href']:\n",
    "                    lineout.append(href + a['href'])\n",
    "\n",
    "            if len(lineout) > 0 and len(lineout) < 20:\n",
    "                print(lineout)"
   ]
  },
  {
   "cell_type": "code",
   "execution_count": 3,
   "metadata": {},
   "outputs": [
    {
     "name": "stdout",
     "output_type": "stream",
     "text": [
      "['Icon:KINTa', 'Text:Edinburgh Waverley ( St Andrew Sq.)', 'Href:/wiki/Edinburgh_Waverley_railway_station', 'Href:/wiki/Edinburgh_Trams']\n",
      "['Icon:INT', 'Text:Haymarket', 'Href:/wiki/Haymarket_railway_station', 'Href:/wiki/Edinburgh_Trams']\n",
      "['Icon:KINTa', 'Icon:STR', 'Text:Glasgow Central ( St Enoch)', 'Href:/wiki/Glasgow_Central_railway_station', 'Href:/wiki/Glasgow_Subway', 'Href:/wiki/St_Enoch_subway_station']\n",
      "['Icon:BHF', 'Icon:STR', 'Text:Motherwell', 'Href:/wiki/Motherwell_railway_station']\n",
      "['Icon:HST', 'Icon:STR', 'Text:Carstairs', 'Href:/wiki/Carstairs_railway_station']\n",
      "['Icon:ABZgl+l', 'Icon:STRr', 'Text:Carstairs South Junction']\n",
      "['Icon:HST', 'Text:Lockerbie', 'Href:/wiki/Lockerbie_railway_station']\n",
      "['Icon:STR+GRZq', 'Text: ScotlandEngland', 'Href:/wiki/Scotland', 'Href:/wiki/England']\n",
      "['Icon:BHF', 'Text:Carlisle', 'Href:/wiki/Carlisle_railway_station']\n",
      "['Icon:HST', 'Text:Penrith', 'Href:/wiki/Penrith_railway_station']\n",
      "['Icon:HST', 'Text: Oxenholme Lake Districtfor Windermere', 'Href:/wiki/Oxenholme_Lake_District_railway_station', 'Href:/wiki/Windermere_railway_station']\n",
      "['Icon:BHF', 'Text:Lancaster', 'Href:/wiki/Lancaster_railway_station']\n",
      "['Icon:BHF', 'Text: Prestonfor Blackpool North', 'Href:/wiki/Preston_railway_station', 'Href:/wiki/Blackpool_North_railway_station']\n",
      "['Icon:KRWgl', 'Icon:KRW+r', 'Text:Euxton Junction']\n",
      "['Icon:STR', 'Icon:BHF', 'Text:Bolton', 'Href:/wiki/Bolton_railway_station']\n",
      "['Icon:BHF', 'Icon:STR', 'Text:Wigan North Western', 'Href:/wiki/Wigan_North_Western_railway_station']\n",
      "['Icon:KRWgl', 'Icon:KRWg+r']\n",
      "['Icon:BHF', 'Icon:STR', 'Text:Warrington Bank Quay', 'Href:/wiki/Warrington_Bank_Quay_railway_station']\n",
      "['Icon:KINTa', 'Icon:STR', 'Icon:STR', 'Text:Liverpool Lime Street', 'Href:/wiki/Liverpool_Lime_Street_railway_station', 'Href:/wiki/Merseyrail']\n",
      "['Icon:BHF', 'Icon:STR', 'Icon:STR', 'Text:Liverpool South Parkway', 'Href:/wiki/Liverpool_South_Parkway_railway_station', 'Href:/wiki/Merseyrail']\n",
      "['Icon:HST', 'Icon:STR', 'Icon:STR', 'Text:Runcorn', 'Href:/wiki/Runcorn_railway_station']\n",
      "['Icon:KRWl', 'Icon:KRWg+r', 'Icon:STR', 'Text:Weaver Junction', 'Href:/wiki/Weaver_Junction']\n",
      "['Icon:STR', 'Icon:cd; vBHF-KBHFa', 'Text:Manchester Piccadilly', 'Href:/wiki/Manchester_Piccadilly_railway_station', 'Href:/wiki/Manchester_Metrolink']\n",
      "['Icon:STR', 'Icon:cd; vSHI2g+l-']\n",
      "['Icon:STR', 'Icon:BHF', 'Text:Stockport', 'Href:/wiki/Stockport_railway_station']\n",
      "['Icon:KINTa', 'Icon:STR', 'Icon:STR', 'Text: Holyheadfor Dublin Ferry Port', 'Href:/wiki/Holyhead_railway_station', 'Href:/wiki/Dublin_Port', 'Href:/wiki/Ferry']\n",
      "['Icon:STR+GRZq', 'Icon:STR', 'Icon:STR', 'Text: WalesEngland', 'Href:/wiki/Wales', 'Href:/wiki/England']\n",
      "['Icon:INT', 'Icon:STR', 'Icon:STR', 'Text:Chester', 'Href:/wiki/Chester_railway_station', 'Href:/wiki/Merseyrail']\n",
      "['Icon:STR', 'Icon:STR+c2', 'Icon:ABZg3', 'Text:Cheadle Hulme Junction']\n",
      "['Icon:KRWl', 'Icon:KRWg+r; ABZg+1', 'Icon:KRWg+r; ABZg+1', 'Icon:STR+c4', 'Text: Crewe North JunctionNorth Wales Coast Line', 'Href:/wiki/North_Wales_Coast_Line']\n",
      "['Icon:BHF', 'Icon:STR', 'Text:Crewe', 'Href:/wiki/Crewe_railway_station']\n",
      "['Icon:STR', 'Icon:BHF', 'Text:Macclesfield', 'Href:/wiki/Macclesfield_railway_station']\n",
      "['Icon:KRWgl', 'Icon:KRWg+r']\n",
      "['Icon:STR', 'Icon:BHF', 'Text:Stoke-on-Trent', 'Href:/wiki/Stoke-on-Trent_railway_station']\n",
      "['Icon:STR+c2', 'Icon:ABZg3', 'Text:Stone Junction']\n",
      "['Icon:ABZg+1', 'Icon:STR+c4', 'Text:Norton Bridge Junction']\n",
      "['Icon:BHF', 'Icon:STR', 'Text:Stafford', 'Href:/wiki/Stafford_railway_station']\n",
      "['Icon:STRc2', 'Icon:ABZg3; STRc2', 'Icon:ABZg3; STRc2', 'Icon:STR3', 'Text:Stafford South Junction']\n",
      "['Icon:STR+1', 'Icon:ABZg+1; STRc4', 'Icon:ABZg+1; STRc4', 'Icon:STRc4', 'Text:Colwich Junction', 'Href:/wiki/Colwich_Junction']\n",
      "['Icon:BHF', 'Icon:STR', 'Text:Wolverhampton', 'Href:/wiki/Wolverhampton_railway_station']\n",
      "['Icon:STR; lCONTg@Fq', 'Icon:STR; lCONTg@Fq', 'Icon:THSTu', 'Icon:lCONTf@Gq', 'Text: Lichfield Trent ValleyCross-City Line', 'Href:/wiki/Lichfield_Trent_Valley_railway_station', 'Href:/wiki/Cross-City_Line']\n",
      "['Icon:INT', 'Icon:STR', 'Text:Birmingham New Street', 'Href:/wiki/Birmingham_New_Street_railway_station', 'Href:/wiki/Midland_Metro']\n",
      "['Icon:STR; lCONTg@Fq', 'Icon:STR; lCONTg@Fq', 'Icon:TBHFu', 'Icon:lCONTf@Gq', 'Text: TamworthCross Country Route', 'Href:/wiki/Tamworth_railway_station', 'Href:/wiki/Cross_Country_Route']\n",
      "['Icon:INT', 'Icon:STR', 'Text:Birmingham International', 'Href:/wiki/Birmingham_International_railway_station', 'Href:/wiki/Birmingham_Airport']\n",
      "['Icon:STR', 'Icon:BHF', 'Text:Nuneaton', 'Href:/wiki/Nuneaton_railway_station']\n",
      "['Icon:BHF', 'Icon:STR', 'Text:Coventry', 'Href:/wiki/Coventry_railway_station']\n",
      "['Icon:KRWl', 'Icon:KRWg+r', 'Text:Rugby Trent Valley Junction']\n",
      "['Icon:BHF', 'Text:Rugby', 'Href:/wiki/Rugby_railway_station']\n",
      "['Icon:KRWgl', 'Icon:KRW+r', 'Text:Hillmorton Junction']\n",
      "['Icon:STR', 'Icon:BHF', 'Text:Northampton', 'Href:/wiki/Northampton_railway_station']\n",
      "['Icon:KRWg+l', 'Icon:KRWr', 'Text:Hanslope Junction']\n",
      "['Icon:BHF', 'Text:Milton Keynes Central', 'Href:/wiki/Milton_Keynes_Central_railway_station']\n",
      "['Icon:INT', 'Text:Watford Junction', 'Href:/wiki/Watford_Junction_railway_station', 'Href:/wiki/London_Overground']\n",
      "['Icon:KINTe', 'Text:London Euston', 'Href:/wiki/Euston_railway_station', 'Href:/wiki/London_Underground', 'Href:/wiki/London_Overground']\n"
     ]
    }
   ],
   "source": [
    "DATAIO_DIR = os.path.join(\"D:\\\\Data\", \"TPAM\", \"Route_Diagrams\")\n",
    "\n",
    "res = open(os.path.join(DATAIO_DIR, os.path.join(DATAIO_DIR,  \"West_Coast_Main_Line.html\")))\n",
    "getroute(res)"
   ]
  },
  {
   "cell_type": "code",
   "execution_count": 4,
   "metadata": {},
   "outputs": [
    {
     "name": "stdout",
     "output_type": "stream",
     "text": [
      "['Icon:/wiki/File:BSicon_d.svg', 'Icon:/wiki/File:BSicon_KHSTACCa.svg', 'Text:St Albans Abbey 6Â\\xa0miÂ\\xa045Â\\xa0ch10.56Â\\xa0km', 'Href:/wiki/St_Albans_Abbey_railway_station']\n",
      "['Icon:/wiki/File:BSicon_d.svg', 'Icon:/wiki/File:BSicon_KHSTACCa.svg']\n",
      "['Icon:/wiki/File:BSicon_eABZgl.svg', 'Icon:/wiki/File:BSicon_exdCONTfq.svg', 'Text: Hatfield & St Albans Railwayto Hatfield', 'Href:/wiki/Hatfield_and_St_Albans_Railway', 'Href:/wiki/Hatfield_railway_station']\n",
      "['Icon:/wiki/File:BSicon_eABZgl.svg', 'Icon:/wiki/File:BSicon_exdCONTfq.svg']\n",
      "['Icon:/wiki/File:BSicon_d.svg', 'Icon:/wiki/File:BSicon_SKRZ-Gu.svg', 'Text:â€‰A414â€‰', 'Href:/wiki/A414_road_(Great_Britain)']\n",
      "['Icon:/wiki/File:BSicon_d.svg', 'Icon:/wiki/File:BSicon_SKRZ-Gu.svg']\n",
      "['Icon:/wiki/File:BSicon_d.svg', 'Icon:/wiki/File:BSicon_HSTACC.svg', 'Text:Park Street 5Â\\xa0miÂ\\xa05Â\\xa0ch8.15Â\\xa0km', 'Href:/wiki/Park_Street_railway_station_(England)']\n",
      "['Icon:/wiki/File:BSicon_d.svg', 'Icon:/wiki/File:BSicon_HSTACC.svg']\n",
      "['Icon:/wiki/File:BSicon_eABZg%2Bl.svg', 'Icon:/wiki/File:BSicon_exdCONTfq.svg', 'Text: Midland Railwayto Midland Main Line', 'Href:/wiki/Midland_Railway', 'Href:/wiki/Midland_Main_Line']\n",
      "['Icon:/wiki/File:BSicon_eABZg%2Bl.svg', 'Icon:/wiki/File:BSicon_exdCONTfq.svg']\n",
      "['Icon:/wiki/File:BSicon_d.svg', 'Icon:/wiki/File:BSicon_HSTACC.svg', 'Text:How Wood 4Â\\xa0miÂ\\xa037Â\\xa0ch7.18Â\\xa0km', 'Href:/wiki/How_Wood_railway_station']\n",
      "['Icon:/wiki/File:BSicon_d.svg', 'Icon:/wiki/File:BSicon_HSTACC.svg']\n",
      "['Icon:/wiki/File:BSicon_d.svg', 'Icon:/wiki/File:BSicon_SKRZ-Bo.svg', 'Text:â€‰M25â€‰', 'Href:/wiki/M25_motorway_(Great_Britain)']\n",
      "['Icon:/wiki/File:BSicon_d.svg', 'Icon:/wiki/File:BSicon_SKRZ-Bo.svg']\n",
      "['Icon:/wiki/File:BSicon_d.svg', 'Icon:/wiki/File:BSicon_HSTACC.svg', 'Text:Bricket Wood 3Â\\xa0miÂ\\xa037Â\\xa0ch5.57Â\\xa0km', 'Href:/wiki/Bricket_Wood_railway_station']\n",
      "['Icon:/wiki/File:BSicon_d.svg', 'Icon:/wiki/File:BSicon_HSTACC.svg']\n",
      "['Icon:/wiki/File:BSicon_d.svg', 'Icon:/wiki/File:BSicon_SKRZ-Bu.svg', 'Text:â€‰M1â€‰', 'Href:/wiki/M1_motorway_(Great_Britain)']\n",
      "['Icon:/wiki/File:BSicon_d.svg', 'Icon:/wiki/File:BSicon_SKRZ-Bu.svg']\n",
      "['Icon:/wiki/File:BSicon_d.svg', 'Icon:/wiki/File:BSicon_HST.svg', 'Text:Garston 1Â\\xa0miÂ\\xa063Â\\xa0ch2.88Â\\xa0km', 'Href:/wiki/Garston_railway_station_(Hertfordshire)']\n",
      "['Icon:/wiki/File:BSicon_d.svg', 'Icon:/wiki/File:BSicon_HST.svg']\n",
      "['Icon:/wiki/File:BSicon_d.svg', 'Icon:/wiki/File:BSicon_BUE.svg', 'Text:Watford North ABCL', 'Href:/wiki/Level_crossing#Types_of_crossing']\n",
      "['Icon:/wiki/File:BSicon_d.svg', 'Icon:/wiki/File:BSicon_BUE.svg']\n",
      "['Icon:/wiki/File:BSicon_d.svg', 'Icon:/wiki/File:BSicon_HSTACC.svg', 'Text:Watford North 0Â\\xa0miÂ\\xa075Â\\xa0ch1.51Â\\xa0km', 'Href:/wiki/Watford_North_railway_station']\n",
      "['Icon:/wiki/File:BSicon_d.svg', 'Icon:/wiki/File:BSicon_HSTACC.svg']\n",
      "['Icon:/wiki/File:BSicon_lCONTf4.svg', 'Icon:/wiki/File:BSicon_vSTR-.svg', 'Text: West Coast Main Lineto Rugby', 'Href:/wiki/West_Coast_Main_Line', 'Href:/wiki/Rugby_railway_station']\n",
      "['Icon:/wiki/File:BSicon_lCONTf4.svg', 'Icon:/wiki/File:BSicon_vSTR-.svg']\n",
      "['Icon:/wiki/File:BSicon_lvACCx-L.svg', 'Icon:/wiki/File:BSicon_ldACC-M.svg', 'Icon:/wiki/File:BSicon_lvACCx-R-.svg', 'Text:Watford Junction  0Â\\xa0miÂ\\xa015Â\\xa0ch0.3Â\\xa0km', 'Href:/wiki/Watford_Junction_railway_station', 'Href:/wiki/Watford_DC_line']\n",
      "['Icon:/wiki/File:BSicon_lvACCx-L.svg', 'Icon:/wiki/File:BSicon_ldACC-M.svg', 'Icon:/wiki/File:BSicon_lvACCx-R-.svg']\n",
      "['Icon:/wiki/File:BSicon_v-SHI2%2Bl.svg', 'Icon:/wiki/File:BSicon_dSHI2r.svg', 'Icon:/wiki/File:BSicon_d.svg', 'Text:Watford South Junction 0Â\\xa0mi0Â\\xa0km']\n",
      "['Icon:/wiki/File:BSicon_v-SHI2%2Bl.svg', 'Icon:/wiki/File:BSicon_dSHI2r.svg', 'Icon:/wiki/File:BSicon_d.svg']\n",
      "['Icon:/wiki/File:BSicon_ldCONTf@F.svg', 'Icon:/wiki/File:BSicon_lCONTf2.svg', 'Icon:/wiki/File:BSicon_d.svg', 'Text: WatfordDC line  &  West CoastMain Line', 'Href:/wiki/Watford_DC_line', 'Href:/wiki/Watford_DC_line', 'Href:/wiki/West_Coast_Main_Line', 'Href:/wiki/West_Coast_Main_Line']\n",
      "['Icon:/wiki/File:BSicon_ldCONTf@F.svg', 'Icon:/wiki/File:BSicon_lCONTf2.svg', 'Icon:/wiki/File:BSicon_d.svg']\n"
     ]
    }
   ],
   "source": [
    "res = open(os.path.join(DATAIO_DIR, os.path.join(DATAIO_DIR,  \"Abbey_Line.html\")))\n",
    "getroute(res)"
   ]
  }
 ],
 "metadata": {
  "interpreter": {
   "hash": "83b37f14035654c95f7c7b64e840d8b46268139ec28fb89403749e6a038e8675"
  },
  "kernelspec": {
   "display_name": "Python 3.9.2 ('GeoDjango')",
   "language": "python",
   "name": "python3"
  },
  "language_info": {
   "codemirror_mode": {
    "name": "ipython",
    "version": 3
   },
   "file_extension": ".py",
   "mimetype": "text/x-python",
   "name": "python",
   "nbconvert_exporter": "python",
   "pygments_lexer": "ipython3",
   "version": "3.9.2"
  },
  "orig_nbformat": 4
 },
 "nbformat": 4,
 "nbformat_minor": 2
}
